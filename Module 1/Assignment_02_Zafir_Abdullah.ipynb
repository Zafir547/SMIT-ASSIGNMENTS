{
 "cells": [
  {
   "cell_type": "markdown",
   "metadata": {},
   "source": [
    "# **Assignment 2, Zafir Abdullah, Roll No.334348**"
   ]
  },
  {
   "cell_type": "markdown",
   "metadata": {},
   "source": [
    "# **Solutions**"
   ]
  },
  {
   "cell_type": "markdown",
   "metadata": {},
   "source": [
    "### **1. Area of a Rectangle**"
   ]
  },
  {
   "cell_type": "markdown",
   "metadata": {},
   "source": [
    "![alt text](<img 1-1.JPG>)"
   ]
  },
  {
   "cell_type": "code",
   "execution_count": 1,
   "metadata": {},
   "outputs": [
    {
     "name": "stdout",
     "output_type": "stream",
     "text": [
      "The area of the rectangle is: 25.0\n"
     ]
    }
   ],
   "source": [
    "def area_of_rectangle():\n",
    "    length = float(input(\"Enter the length of the rectangle: \"))\n",
    "    width = float(input(\"Enter the width of the rectangle: \"))\n",
    "    area = length * width\n",
    "    print(f\"The area of the rectangle is: {area}\")\n",
    "\n",
    "area_of_rectangle()"
   ]
  },
  {
   "cell_type": "code",
   "execution_count": null,
   "metadata": {},
   "outputs": [
    {
     "name": "stdout",
     "output_type": "stream",
     "text": [
      "The area of the rectangle is: 10.0\n"
     ]
    }
   ],
   "source": [
    "def area_of_reactangle(l,w):\n",
    "    return round(l*w,4)\n",
    "\n",
    "length = float(input(\"length: \"))\n",
    "width = float(input(\"width: \"))\n",
    "\n",
    "area = area_of_reactangle(length,width)\n",
    "print(\"The area of the rectangle is:\", area)"
   ]
  },
  {
   "cell_type": "markdown",
   "metadata": {},
   "source": [
    "### **2. Circumference of a Circle**"
   ]
  },
  {
   "cell_type": "markdown",
   "metadata": {},
   "source": [
    "![alt text](<img 2.JPG>)"
   ]
  },
  {
   "cell_type": "code",
   "execution_count": 13,
   "metadata": {},
   "outputs": [
    {
     "name": "stdout",
     "output_type": "stream",
     "text": [
      "The circumference of the circle is: 18.84955592153876\n"
     ]
    }
   ],
   "source": [
    "import math\n",
    "\n",
    "def circumference_of_circle():\n",
    "    radius = float(input(\"Enter the radius of the circle: \"))\n",
    "    circumference = 2 * math.pi * radius\n",
    "    print(f\"The circumference of the circle is: {circumference}\")\n",
    "\n",
    "circumference_of_circle()"
   ]
  },
  {
   "cell_type": "code",
   "execution_count": null,
   "metadata": {},
   "outputs": [
    {
     "name": "stdout",
     "output_type": "stream",
     "text": [
      "The circumference of the circle is:  12.566370614359172\n"
     ]
    }
   ],
   "source": [
    "import math\n",
    "\n",
    "def circumference_of_circle(radius):\n",
    "    return 2 * math.pi * radius\n",
    "\n",
    "radius = float(input(\"Enter the radius of the circle: \"))\n",
    "circumference = circumference_of_circle(radius)\n",
    "print(\"The circumference of the circle is: \", circumference)"
   ]
  },
  {
   "cell_type": "markdown",
   "metadata": {},
   "source": [
    "### **3. Simple Interest**"
   ]
  },
  {
   "cell_type": "markdown",
   "metadata": {},
   "source": [
    "![alt text](<img 3.JPG>)"
   ]
  },
  {
   "cell_type": "code",
   "execution_count": null,
   "metadata": {},
   "outputs": [
    {
     "name": "stdout",
     "output_type": "stream",
     "text": [
      "The Simple Interest is: 2500.0\n"
     ]
    }
   ],
   "source": [
    "def simple_interest():\n",
    "    principal = float(input(\"Enter the principal amount: \"))\n",
    "    rate = float(input(\"Enter the rate of interest: \"))\n",
    "    time = float(input(\"Enter the time in years: \"))\n",
    "    interest = principal * rate * time\n",
    "    print(f\"The Simple Interest is: {interest}\")\n",
    "\n",
    "simple_interest()"
   ]
  },
  {
   "cell_type": "code",
   "execution_count": null,
   "metadata": {},
   "outputs": [
    {
     "name": "stdout",
     "output_type": "stream",
     "text": [
      "The Simple Interest is: 120.0\n"
     ]
    }
   ],
   "source": [
    "def simple_interest(principal, rate, time):\n",
    "    return principal * rate * time\n",
    "\n",
    "principal = float(input(\"Enter the principal amount: \"))\n",
    "rate = float(input(\"Enter the rate of interest: \"))\n",
    "time = float(input(\"Enter the time in years: \"))\n",
    "\n",
    "interest = simple_interest(principal, rate, time)\n",
    "print(f\"The Simple Interest is: {interest}\")"
   ]
  },
  {
   "cell_type": "markdown",
   "metadata": {},
   "source": [
    "### **4. Speed of an Object** "
   ]
  },
  {
   "cell_type": "markdown",
   "metadata": {},
   "source": [
    "![alt text](<images/img 4.JPG>)"
   ]
  },
  {
   "cell_type": "code",
   "execution_count": null,
   "metadata": {},
   "outputs": [
    {
     "name": "stdout",
     "output_type": "stream",
     "text": [
      "The speed of the object is 1.25 m/s\n"
     ]
    }
   ],
   "source": [
    "def speed_of_object():\n",
    "    distance = float(input(\"Enter the distance traveled (in meters)\"))\n",
    "    time = float(input(\"Enter the time taken (in seconds)\"))\n",
    "\n",
    "    speed = distance / time\n",
    "    print(f\"The speed of the object is {speed} m/s\")\n",
    "\n",
    "speed_of_object()"
   ]
  },
  {
   "cell_type": "code",
   "execution_count": 3,
   "metadata": {},
   "outputs": [
    {
     "name": "stdout",
     "output_type": "stream",
     "text": [
      "The speed of object is 0.8333333333333334 m/s\n"
     ]
    }
   ],
   "source": [
    "def speed_of_object(distance, time):\n",
    "    return distance / time\n",
    "\n",
    "distance = float(input(\"Enter the distance traveled (in meters)\"))\n",
    "time = float(input(\"Enter the time taken (in seconds)\"))\n",
    "\n",
    "speed = speed_of_object(distance, time)\n",
    "print(f\"The speed of object is {speed} m/s\")"
   ]
  },
  {
   "cell_type": "markdown",
   "metadata": {},
   "source": [
    "### **5. BMI Calculator**"
   ]
  },
  {
   "cell_type": "markdown",
   "metadata": {},
   "source": [
    "![alt text](<img 5.JPG>)"
   ]
  },
  {
   "cell_type": "code",
   "execution_count": null,
   "metadata": {},
   "outputs": [
    {
     "name": "stdout",
     "output_type": "stream",
     "text": [
      "Your Body Index (BMI) is: 2.3319615912208502\n"
     ]
    }
   ],
   "source": [
    "def bmi_calculator():\n",
    "    weight = float(input(\"Enter your weight in kilograms: \"))\n",
    "    height = float(input(\"Enter your height in meters: \"))\n",
    "    bmi = weight / (height ** 2)\n",
    "    print(f\"Your Body Index (BMI) is: {bmi}\")\n",
    "\n",
    "bmi_calculator()    "
   ]
  },
  {
   "cell_type": "code",
   "execution_count": null,
   "metadata": {},
   "outputs": [
    {
     "name": "stdout",
     "output_type": "stream",
     "text": [
      "Your Body Index (BMI) is: 1.8512396694214877\n"
     ]
    }
   ],
   "source": [
    "def bmi_calculator(weight, height):\n",
    "    return weight / (height ** 2)\n",
    "\n",
    "weight = float(input(\"Enter your weight in kilograms: \"))\n",
    "height = float(input(\"Enter your height in meters: \"))\n",
    "\n",
    "bmi = bmi_calculator(weight, height)\n",
    "print(f\"Your Body Index (BMI) is: {bmi}\")"
   ]
  },
  {
   "cell_type": "markdown",
   "metadata": {},
   "source": [
    "### **6. Force Using Newton's Second Law**"
   ]
  },
  {
   "cell_type": "markdown",
   "metadata": {},
   "source": [
    "![alt text](<images/img 6.JPG>)"
   ]
  },
  {
   "cell_type": "code",
   "execution_count": null,
   "metadata": {},
   "outputs": [
    {
     "name": "stdout",
     "output_type": "stream",
     "text": [
      "The force on the object is: 20.0 Newtons\n"
     ]
    }
   ],
   "source": [
    "def force_using_newtons_second_law():\n",
    "    mass = float(input(\"Enter the mass of the object in kilograms: \"))\n",
    "    acceleration = float(input(\"Enter the acceleration in meters per second squared: \"))\n",
    "    force = mass * acceleration\n",
    "    print(f\"The force on the object is: {force} Newtons\")\n",
    "\n",
    "force_using_newtons_second_law()    \n"
   ]
  },
  {
   "cell_type": "code",
   "execution_count": null,
   "metadata": {},
   "outputs": [
    {
     "name": "stdout",
     "output_type": "stream",
     "text": [
      "The force acting on the object is 30.0 Newtons\n"
     ]
    }
   ],
   "source": [
    "def force_using_newtons_second_law(mass, acceleration):\n",
    "    return mass * acceleration\n",
    "\n",
    "mass = float(input(\"Enter the mass of the object in kilograms: \"))\n",
    "acceleration = float(input(\"Enter the acceleration of the object in meters per second squared: \"))\n",
    "\n",
    "force = force_using_newtons_second_law(mass, acceleration)\n",
    "print(f\"The force acting on the object is {force} Newtons\")"
   ]
  },
  {
   "cell_type": "markdown",
   "metadata": {},
   "source": [
    "### **7. Compound Interest**"
   ]
  },
  {
   "cell_type": "markdown",
   "metadata": {},
   "source": [
    "![alt text](<img 7.JPG>)"
   ]
  },
  {
   "cell_type": "code",
   "execution_count": 5,
   "metadata": {},
   "outputs": [
    {
     "name": "stdout",
     "output_type": "stream",
     "text": [
      "The compound interest is: -3.0\n",
      "The total amount after 5.0 years is: 2.0\n"
     ]
    }
   ],
   "source": [
    "def compound_interest():\n",
    "    principal = float(input(\"Enter the principal amount: \"))\n",
    "    rate = float(input(\"Enter the annual interest rate (in decimal): \"))\n",
    "    times_compounded = int(input(\"Enter the number of times interest is compound per year: \"))\n",
    "    time = float(input(\"Enter the time in years: \"))\n",
    "\n",
    "    amount = principal * (1 + rate / times_compounded) ** (times_compounded - time)\n",
    "    compound_interest = amount - principal\n",
    "\n",
    "    print(f\"The compound interest is: {compound_interest}\")\n",
    "    print(f\"The total amount after {time} years is: {amount}\")\n",
    "\n",
    "compound_interest()\n"
   ]
  },
  {
   "cell_type": "code",
   "execution_count": null,
   "metadata": {},
   "outputs": [
    {
     "name": "stdout",
     "output_type": "stream",
     "text": [
      "The amount after 7 years is: 2.1818181818181817\n",
      "The total amount after 7 years is: 2.1818181818181817\n"
     ]
    }
   ],
   "source": [
    "def compound_interest(principal, rate, times_compounded, time):\n",
    "    return principal * (1 + rate / times_compounded) ** (times_compounded - time)\n",
    "\n",
    "principal = float(input(\"Enter the principal amount: \"))\n",
    "rate = float(input(\"Enter the annual interest rate (in %): \"))\n",
    "times_compounded = int(input(\"Enter the number of times interest is compounded per year: \"))\n",
    "time = int(input(\"Enter the time period (in years): \"))\n",
    "\n",
    "amount = compound_interest(principal, rate, times_compounded, time)\n",
    "compound_interest = amount - principal\n",
    "\n",
    "print(f\"The amount after {time} years is: {amount}\")\n",
    "print(f\"The total amount after {time} years is: {amount}\")\n"
   ]
  },
  {
   "cell_type": "markdown",
   "metadata": {},
   "source": [
    "### **8. Perimeter of a Triangle:**"
   ]
  },
  {
   "cell_type": "markdown",
   "metadata": {},
   "source": [
    "![alt text](<img 8.JPG>)"
   ]
  },
  {
   "cell_type": "code",
   "execution_count": null,
   "metadata": {},
   "outputs": [
    {
     "name": "stdout",
     "output_type": "stream",
     "text": [
      "The perimeter of the triangle is: 16.0\n"
     ]
    }
   ],
   "source": [
    "def perimeter_of_triangle():\n",
    "    a = float(input(\"Enter the length of side a: \"))\n",
    "    b = float(input(\"Enter the length of side b: \"))\n",
    "    c = float(input(\"Enter the length of side c: \"))\n",
    "\n",
    "    perimeter = a + b + c\n",
    "    print(f\"The perimeter of the triangle is: {perimeter}\")\n",
    "\n",
    "perimeter_of_triangle()"
   ]
  },
  {
   "cell_type": "code",
   "execution_count": null,
   "metadata": {},
   "outputs": [
    {
     "name": "stdout",
     "output_type": "stream",
     "text": [
      "The perimeter of the triangle is: 12.0\n"
     ]
    }
   ],
   "source": [
    "def perimeter_of_triangle(a,b,c):\n",
    "    return a + b + c\n",
    "\n",
    "a = float(input(\"Enter the length of side a: \"))\n",
    "b = float(input(\"Enter the length of side b: \"))\n",
    "c = float(input(\"Enter the length of side c: \"))\n",
    "\n",
    "perimeter = perimeter_of_triangle(a,b,c)\n",
    "print(f\"The perimeter of the triangle is: {perimeter}\")"
   ]
  },
  {
   "cell_type": "markdown",
   "metadata": {},
   "source": [
    "### **9. Volume of a Sphere:**"
   ]
  },
  {
   "cell_type": "markdown",
   "metadata": {},
   "source": [
    "![alt text](<img 9.JPG>)"
   ]
  },
  {
   "cell_type": "code",
   "execution_count": null,
   "metadata": {},
   "outputs": [
    {
     "name": "stdout",
     "output_type": "stream",
     "text": [
      "The volume of the sphere is: 268.082573106329\n"
     ]
    }
   ],
   "source": [
    "import math\n",
    "\n",
    "def volume_of_sphere():\n",
    "    radius = float(input(\"Enter the radius of the sphere: \"))\n",
    "    volume = (4/3) * math.pi * (radius ** 3)\n",
    "    print(f\"The volume of the sphere is: {volume}\")\n",
    "\n",
    "volume_of_sphere()"
   ]
  },
  {
   "cell_type": "code",
   "execution_count": null,
   "metadata": {},
   "outputs": [
    {
     "name": "stdout",
     "output_type": "stream",
     "text": [
      "The volume of the sphere is: 523.5987755982989\n"
     ]
    }
   ],
   "source": [
    "import math\n",
    "\n",
    "def volume_of_sphere(radius):\n",
    "    return (4/3) * math.pi * (radius ** 3)\n",
    "\n",
    "radius = float(input(\"Enter the radius of the sphere: \"))\n",
    "\n",
    "volume = volume_of_sphere(radius)\n",
    "print(f\"The volume of the sphere is: {volume}\")"
   ]
  },
  {
   "cell_type": "markdown",
   "metadata": {},
   "source": [
    "### **10. Kinetic Energy**"
   ]
  },
  {
   "cell_type": "markdown",
   "metadata": {},
   "source": [
    "![alt text](<img 10.JPG>)"
   ]
  },
  {
   "cell_type": "code",
   "execution_count": null,
   "metadata": {},
   "outputs": [
    {
     "name": "stdout",
     "output_type": "stream",
     "text": [
      "The kinectic energy of the object is: 50.0 Joules\n"
     ]
    }
   ],
   "source": [
    "def kinectic_energy():\n",
    "    mass = float(input(\"Enter the mass of the object in kilograms: \"))\n",
    "    velocity = float(input(\"Enter the velocity of the object in meters per second: \"))\n",
    "    kinectic_energy = 0.5 * mass * (velocity ** 2)\n",
    "    print(f\"The kinetic energy of the object is: {kinectic_energy} Joules\")\n",
    "\n",
    "kinectic_energy()"
   ]
  },
  {
   "cell_type": "code",
   "execution_count": null,
   "metadata": {},
   "outputs": [
    {
     "name": "stdout",
     "output_type": "stream",
     "text": [
      "The kinetic energy of the object is: 40.0 Joules\n"
     ]
    }
   ],
   "source": [
    "def kinectic_energy(mass,velocity):\n",
    "    return 0.5 * mass * (velocity ** 2)\n",
    "\n",
    "mass = float(input(\"Enter the mass of the object in kilograms: \"))\n",
    "velocity = float(input(\"Enter the velocity of the object in meters per second: \"))\n",
    "\n",
    "kinectic_energy = kinectic_energy(mass,velocity)\n",
    "print(f\"The kinetic energy of the object is: {kinectic_energy} Joules\")"
   ]
  },
  {
   "cell_type": "markdown",
   "metadata": {},
   "source": [
    "### **11. Quadratic Equation Roots**"
   ]
  },
  {
   "cell_type": "markdown",
   "metadata": {},
   "source": [
    "![alt text](<img 11.JPG>)"
   ]
  },
  {
   "cell_type": "code",
   "execution_count": null,
   "metadata": {},
   "outputs": [
    {
     "name": "stdout",
     "output_type": "stream",
     "text": [
      "The roots of the quadratic equation are: (-5+5.5677643628300215j) and (-5-5.5677643628300215j)\n"
     ]
    }
   ],
   "source": [
    "import cmath\n",
    "\n",
    "def quadratic_equation_roots():\n",
    "    a = float(input(\"Enter the coefficient a: \"))\n",
    "    b = float(input(\"Enter the coefficient b: \"))\n",
    "    c = float(input(\"Enter the coefficient c: \"))\n",
    "\n",
    "    discriminant = cmath.sqrt(b**2 - 4*a*c)\n",
    "    root1 = (-b + discriminant) / (2*a)\n",
    "    root2 = (-b - discriminant) / (2*a)\n",
    "\n",
    "    print(f\"The roots of the quadratic equation are: {root1} and {root2}\")\n",
    "\n",
    "quadratic_equation_roots()"
   ]
  },
  {
   "cell_type": "code",
   "execution_count": 4,
   "metadata": {},
   "outputs": [
    {
     "name": "stdout",
     "output_type": "stream",
     "text": [
      "The roots of the quadratic equation are: (-0.6+0.6633249580710799j) and (-0.6-0.6633249580710799j)\n"
     ]
    }
   ],
   "source": [
    "import cmath\n",
    "\n",
    "def quadratic_equation_roots(a,b,c):\n",
    "    return cmath.sqrt(b**2 - 4*a*c)\n",
    "\n",
    "    \n",
    "a = float(input(\"Enter the coefficient a: \"))\n",
    "b = float(input(\"Enter the coefficient b: \"))\n",
    "c = float(input(\"Enter the coefficient c: \"))\n",
    "\n",
    "discriminant = quadratic_equation_roots(a,b,c)\n",
    "root1 = (-b + discriminant) / (2*a)\n",
    "root2 = (-b - discriminant) / (2*a)\n",
    "\n",
    "print(f\"The roots of the quadratic equation are: {root1} and {root2}\")"
   ]
  },
  {
   "cell_type": "markdown",
   "metadata": {},
   "source": [
    "### **12. Temperature Conversion**"
   ]
  },
  {
   "cell_type": "markdown",
   "metadata": {},
   "source": [
    "![alt text](<img 12.JPG>)"
   ]
  },
  {
   "cell_type": "code",
   "execution_count": null,
   "metadata": {},
   "outputs": [
    {
     "name": "stdout",
     "output_type": "stream",
     "text": [
      "The temperature in Fahrenheit is: 41.0\n"
     ]
    }
   ],
   "source": [
    "def temperature_conversion():\n",
    "    celsius = float(input(\"Enter the temperature in Celsius: \"))\n",
    "    fahrenheit = (celsius * 9/5) + 32\n",
    "    print(f\"The temperature in Fahrenheit is: {fahrenheit}\")\n",
    "\n",
    "temperature_conversion()"
   ]
  },
  {
   "cell_type": "code",
   "execution_count": null,
   "metadata": {},
   "outputs": [
    {
     "name": "stdout",
     "output_type": "stream",
     "text": [
      "The temperature in Fahrenheit is: 98.6\n"
     ]
    }
   ],
   "source": [
    "def temperature_conversion(celsius):\n",
    "    return (celsius * 9/5) + 32\n",
    "\n",
    "celsius = float(input(\"Enter the temperature in Celsius: \"))\n",
    "\n",
    "fahrenheit = temperature_conversion(celsius)\n",
    "print(f\"The temperature in Fahrenheit is: {fahrenheit}\")"
   ]
  },
  {
   "cell_type": "markdown",
   "metadata": {},
   "source": [
    "### **13. Gravitational Force**"
   ]
  },
  {
   "cell_type": "markdown",
   "metadata": {},
   "source": [
    "![alt text](<img 13.JPG>)"
   ]
  },
  {
   "cell_type": "code",
   "execution_count": null,
   "metadata": {},
   "outputs": [
    {
     "name": "stdout",
     "output_type": "stream",
     "text": [
      "The gravitational force between the objects is: 1.4831777777777776e-10 N\n"
     ]
    }
   ],
   "source": [
    "def gravitational_force():\n",
    "    G = 6.67430e-11\n",
    "    m1 = float(input(\"Enter the mass of the first object (in kilograms): \"))\n",
    "    m2 = float(input(\"Enter the mass of the second object (in kilograms): \"))\n",
    "    r = float(input(\"Enter the distance between the objects (in meters): \"))\n",
    "\n",
    "    force = G * (m1 * m2) / (r ** 2)\n",
    "    print(f\"The gravitational force between the objects is: {force} N\")\n",
    "\n",
    "gravitational_force()"
   ]
  },
  {
   "cell_type": "code",
   "execution_count": 1,
   "metadata": {},
   "outputs": [
    {
     "name": "stdout",
     "output_type": "stream",
     "text": [
      "The gravitational force between the objects is: 1.2514312499999998e-10 N\n"
     ]
    }
   ],
   "source": [
    "def gravitational_force(G,m1,m2,r):\n",
    "    return G * (m1 * m2) / (r ** 2)\n",
    "\n",
    "G = 6.67430e-11\n",
    "m1 = float(input(\"Enter the mass of the first object (in kilograms): \"))\n",
    "m2 = float(input(\"Enter the mass of the second object (in kilograms): \"))\n",
    "r = float(input(\"Enter the distance between the objects (in meters): \"))\n",
    "force = gravitational_force(G,m1,m2,r)\n",
    "print(f\"The gravitational force between the objects is: {force} N\")"
   ]
  },
  {
   "cell_type": "markdown",
   "metadata": {},
   "source": [
    "### **14. Volume of a Cylinder**"
   ]
  },
  {
   "cell_type": "markdown",
   "metadata": {},
   "source": [
    "![alt text](<img 14.JPG>)"
   ]
  },
  {
   "cell_type": "code",
   "execution_count": null,
   "metadata": {},
   "outputs": [
    {
     "name": "stdout",
     "output_type": "stream",
     "text": [
      "The volume of the cylinder is: 150.79644737231007\n"
     ]
    }
   ],
   "source": [
    "import math\n",
    "\n",
    "def volume_of_cylinder():\n",
    "    radius = float(input(\"Enter the radius of the cylinder: \"))\n",
    "    height = float(input(\"Enter the height of the cylinder: \"))\n",
    "\n",
    "    volume = math.pi * (radius ** 2) * height\n",
    "    print(f\"The volume of the cylinder is: {volume}\")\n",
    "\n",
    "volume_of_cylinder()"
   ]
  },
  {
   "cell_type": "code",
   "execution_count": null,
   "metadata": {},
   "outputs": [
    {
     "name": "stdout",
     "output_type": "stream",
     "text": [
      "The volume of the cylinder is: 314.1592653589793\n"
     ]
    }
   ],
   "source": [
    "import math\n",
    "\n",
    "def volume_of_cylinder(radius,height):\n",
    "    return math.pi * (radius ** 2) * height\n",
    "\n",
    "radius = float(input(\"Enter the radius of the cylinder: \"))\n",
    "height = float(input(\"Enter the height of the cylinder: \"))\n",
    "\n",
    "volume = volume_of_cylinder(radius,height)\n",
    "print(f\"The volume of the cylinder is: {volume}\")"
   ]
  },
  {
   "cell_type": "markdown",
   "metadata": {},
   "source": [
    "### **15. Pressure**"
   ]
  },
  {
   "cell_type": "markdown",
   "metadata": {},
   "source": [
    "![alt text](<images/img 15.JPG>)"
   ]
  },
  {
   "cell_type": "code",
   "execution_count": 1,
   "metadata": {},
   "outputs": [
    {
     "name": "stdout",
     "output_type": "stream",
     "text": [
      "The pressure exeted by the force is: 1.0 pascals\n"
     ]
    }
   ],
   "source": [
    "def calculate_pressure():\n",
    "    force = float(input(\"Enter the force (in newtons): \"))\n",
    "    area = float(input(\"Enter the area (in square meters): \"))\n",
    "\n",
    "    pressure = force / area\n",
    "    print(f\"The pressure exeted by the force is: {pressure} pascals\")\n",
    "\n",
    "calculate_pressure()"
   ]
  },
  {
   "cell_type": "code",
   "execution_count": null,
   "metadata": {},
   "outputs": [
    {
     "name": "stdout",
     "output_type": "stream",
     "text": [
      "The pressure exeted by the force is: 0.8333333333333334 pascals\n"
     ]
    }
   ],
   "source": [
    "def calculate_pressure(force,area):\n",
    "    return force / area\n",
    "\n",
    "force = float(input(\"Enter the force (in newtons): \"))\n",
    "area = float(input(\"Enter the area (in square meters): \"))\n",
    "\n",
    "pressure = calculate_pressure(force,area)\n",
    "print(f\"The pressure exeted by the force is: {pressure} pascals\")"
   ]
  },
  {
   "cell_type": "markdown",
   "metadata": {},
   "source": [
    "### **16. Electric Power**"
   ]
  },
  {
   "cell_type": "markdown",
   "metadata": {},
   "source": [
    "![alt text](<img 16.JPG>)"
   ]
  },
  {
   "cell_type": "code",
   "execution_count": null,
   "metadata": {},
   "outputs": [
    {
     "name": "stdout",
     "output_type": "stream",
     "text": [
      "The electric power consumed is: 5.9799999999999995 watts\n"
     ]
    }
   ],
   "source": [
    "def electric_power():\n",
    "    voltage = float(input(\"Enter the voltage (in volts): \"))\n",
    "    current = float(input(\"Enter the voltage (in amperes): \"))\n",
    "\n",
    "    power = voltage * current\n",
    "    print(f\"The electric power consumed is: {power} watts\")\n",
    "\n",
    "electric_power()"
   ]
  },
  {
   "cell_type": "code",
   "execution_count": null,
   "metadata": {},
   "outputs": [
    {
     "name": "stdout",
     "output_type": "stream",
     "text": [
      "The electric power consumed is: 30.0 watts\n"
     ]
    }
   ],
   "source": [
    "def electric_power(voltage,current):\n",
    "    return voltage * current\n",
    "\n",
    "voltage = float(input(\"Enter the voltage (in volts): \"))\n",
    "current = float(input(\"Enter the voltage (in amperes): \"))\n",
    "\n",
    "power = electric_power(voltage,current)\n",
    "print(f\"The electric power consumed is: {power} watts\")"
   ]
  },
  {
   "cell_type": "markdown",
   "metadata": {},
   "source": [
    "### **17. Perimeter of a Circle (Circumference)** "
   ]
  },
  {
   "cell_type": "markdown",
   "metadata": {},
   "source": [
    "![alt text](<img 17.JPG>)"
   ]
  },
  {
   "cell_type": "code",
   "execution_count": null,
   "metadata": {},
   "outputs": [
    {
     "name": "stdout",
     "output_type": "stream",
     "text": [
      "The circumference of the circle is: 12.566370614359172\n"
     ]
    }
   ],
   "source": [
    "import math\n",
    "\n",
    "def circumference_of_circle():\n",
    "    radius = float(input(\"Enter the radius of the circle: \"))\n",
    "    circumference = 2 * math.pi * radius\n",
    "    print(f\"The circumference of the circle is: {circumference}\")\n",
    "\n",
    "circumference_of_circle()"
   ]
  },
  {
   "cell_type": "code",
   "execution_count": null,
   "metadata": {},
   "outputs": [
    {
     "name": "stdout",
     "output_type": "stream",
     "text": [
      "The circumference of the circle is: 31.41592653589793\n"
     ]
    }
   ],
   "source": [
    "import math\n",
    "\n",
    "def circumference_of_circle(radius):\n",
    "    return 2 * math.pi * radius\n",
    "\n",
    "radius = float(input(\"Enter the radius of the circle: \"))\n",
    "\n",
    "circumference = circumference_of_circle(radius)\n",
    "print(f\"The circumference of the circle is: {circumference}\")"
   ]
  },
  {
   "cell_type": "markdown",
   "metadata": {},
   "source": [
    "### **18. Future Value in Savings**"
   ]
  },
  {
   "cell_type": "markdown",
   "metadata": {},
   "source": [
    "![alt text](<img 18.JPG>)"
   ]
  },
  {
   "cell_type": "code",
   "execution_count": null,
   "metadata": {},
   "outputs": [
    {
     "name": "stdout",
     "output_type": "stream",
     "text": [
      "The future value of the investement is: 512.0\n"
     ]
    }
   ],
   "source": [
    "def future_value_in_savings():\n",
    "    present_value = float(input(\"Enter the present value (PV): \"))\n",
    "    annual_interest_rate = float(input(\"Enter the annual interest rate (in decimal): \"))\n",
    "    time_years = float(input(\"Enter the time in years: \"))\n",
    "\n",
    "    future_value = present_value * (1 + annual_interest_rate) ** time_years\n",
    "    print(f\"The future value of the investement is: {future_value}\")\n",
    "\n",
    "future_value_in_savings()"
   ]
  },
  {
   "cell_type": "code",
   "execution_count": null,
   "metadata": {},
   "outputs": [
    {
     "name": "stdout",
     "output_type": "stream",
     "text": [
      "The future value of the investement is: 12005.0\n"
     ]
    }
   ],
   "source": [
    "def future_value_in_savings(present_value,annual_interest_rate,time_years):\n",
    "    return present_value * (1 + annual_interest_rate) ** time_years\n",
    "\n",
    "present_value = float(input(\"Enter the present value (PV): \"))\n",
    "annual_interest_rate = float(input(\"Enter the annual interest rate (in decimal): \"))\n",
    "time_years = float(input(\"Enter the time in years: \"))\n",
    "\n",
    "future_value = future_value_in_savings(present_value,annual_interest_rate,time_years)\n",
    "print(f\"The future value of the investement is: {future_value}\")"
   ]
  },
  {
   "cell_type": "markdown",
   "metadata": {},
   "source": [
    "### **19. Work Done by a Force**"
   ]
  },
  {
   "cell_type": "markdown",
   "metadata": {},
   "source": [
    "![alt text](<img 19.JPG>)"
   ]
  },
  {
   "cell_type": "code",
   "execution_count": null,
   "metadata": {},
   "outputs": [
    {
     "name": "stdout",
     "output_type": "stream",
     "text": [
      "The work done by the force is: 15.32088886237956 joules\n"
     ]
    }
   ],
   "source": [
    "import math\n",
    "\n",
    "def work_done_by_force():\n",
    "    force = float(input(\"Enter the force (in newtons): \"))\n",
    "    distance = float(input(\"Enter the distance (in meters): \"))\n",
    "    angle_degrees = float(input(\"Enter the angle between force and direction of movement (in degrees): \"))\n",
    "\n",
    "    angle_radians = math.radians(angle_degrees)\n",
    "    work_done = force * distance * math.cos(angle_radians)\n",
    "\n",
    "    print(f\"The work done by the force is: {work_done} joules\")\n",
    "\n",
    "work_done_by_force()"
   ]
  },
  {
   "cell_type": "code",
   "execution_count": null,
   "metadata": {},
   "outputs": [
    {
     "name": "stdout",
     "output_type": "stream",
     "text": [
      "The work done by the force is: 19.972590695091476 joules\n"
     ]
    }
   ],
   "source": [
    "import math\n",
    "\n",
    "def work_done_by_force(angle_degrees):\n",
    "    return math.radians(angle_degrees)\n",
    "\n",
    "\n",
    "force = float(input(\"Enter the force (in newtons): \"))\n",
    "distance = float(input(\"Enter the distance (in meters): \"))\n",
    "angle_degrees = float(input(\"Enter the angle between force and direction of movement (in degrees): \"))\n",
    "\n",
    "angle_radians = work_done_by_force(angle_degrees)\n",
    "work_done = force * distance * math.cos(angle_radians)\n",
    "\n",
    "print(f\"The work done by the force is: {work_done} joules\")"
   ]
  },
  {
   "cell_type": "markdown",
   "metadata": {},
   "source": [
    "### **20. Heat Transfer**"
   ]
  },
  {
   "cell_type": "markdown",
   "metadata": {},
   "source": [
    "![alt text](<img 20.JPG>)"
   ]
  },
  {
   "cell_type": "code",
   "execution_count": null,
   "metadata": {},
   "outputs": [
    {
     "name": "stdout",
     "output_type": "stream",
     "text": [
      "The amount of heat transferred is: 6475.0 joules\n"
     ]
    }
   ],
   "source": [
    "def heat_transfer():\n",
    "    mass = float(input(\"Enter the mass (in kilograms): \"))\n",
    "    specific_heat_capacity = float(input(\"Enter the specific heat capacity (in J/kg°C): \"))\n",
    "    temperature_change = float(input(\"Enter the temperature change (in °C): \"))\n",
    "\n",
    "    heat_transferred = mass * specific_heat_capacity * temperature_change\n",
    "    print(f\"The amount of heat transferred is: {heat_transferred} joules\")\n",
    "\n",
    "heat_transfer()"
   ]
  },
  {
   "cell_type": "code",
   "execution_count": 2,
   "metadata": {},
   "outputs": [
    {
     "name": "stdout",
     "output_type": "stream",
     "text": [
      "The amount of heat transferred is: 120.0 joules\n"
     ]
    }
   ],
   "source": [
    "def heat_transfer(mass,specific_heat_capacity,temperature_change):\n",
    "    return mass * specific_heat_capacity * temperature_change\n",
    "\n",
    "mass = float(input(\"Enter the mass (in kilograms): \"))\n",
    "specific_heat_capacity = float(input(\"Enter the specific heat capacity (in J/kg°C): \"))\n",
    "temperature_change = float(input(\"Enter the temperature change (in °C): \"))\n",
    "\n",
    "heat_transferred = heat_transfer(mass,specific_heat_capacity,temperature_change)\n",
    "print(f\"The amount of heat transferred is: {heat_transferred} joules\")"
   ]
  }
 ],
 "metadata": {
  "kernelspec": {
   "display_name": "Python 3",
   "language": "python",
   "name": "python3"
  },
  "language_info": {
   "codemirror_mode": {
    "name": "ipython",
    "version": 3
   },
   "file_extension": ".py",
   "mimetype": "text/x-python",
   "name": "python",
   "nbconvert_exporter": "python",
   "pygments_lexer": "ipython3",
   "version": "3.10.11"
  }
 },
 "nbformat": 4,
 "nbformat_minor": 2
}
