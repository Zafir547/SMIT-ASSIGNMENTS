{
 "cells": [
  {
   "cell_type": "markdown",
   "metadata": {},
   "source": [
    "## A-\tDiscounts and Pricing"
   ]
  },
  {
   "cell_type": "markdown",
   "metadata": {},
   "source": [
    "### 1.\tCheck Discount Eligibility\n",
    "Write a program to check if a customer is eligible for a discount. If the total purchase is more than $100, \n",
    "apply a 10% discount and display the final price. Otherwise, display the total price as it is."
   ]
  },
  {
   "cell_type": "code",
   "execution_count": 4,
   "metadata": {},
   "outputs": [
    {
     "name": "stdout",
     "output_type": "stream",
     "text": [
      "Enter the total purchase amount: $120.0\n",
      "Final price after discount: $108.00\n"
     ]
    }
   ],
   "source": [
    "total_purchase = float(input(\"Enter the total purchase amount: $\"))\n",
    "if total_purchase > 100:\n",
    "    discount = total_purchase * 0.10\n",
    "    final_price = total_purchase - discount\n",
    "else:\n",
    "    final_price = total_purchase\n",
    "print(f\"Enter the total purchase amount: ${total_purchase}\")\n",
    "print(f\"Final price after discount: ${final_price:.2f}\")\n"
   ]
  },
  {
   "cell_type": "markdown",
   "metadata": {},
   "source": [
    "### 2.\tCalculate Bulk Discount\n",
    "If a customer buys more than 5 items, apply a 15% discount on the total price. Otherwise, no discount is applied. Display the total price."
   ]
  },
  {
   "cell_type": "code",
   "execution_count": 5,
   "metadata": {},
   "outputs": [
    {
     "name": "stdout",
     "output_type": "stream",
     "text": [
      "Enter the total number of items: 6\n",
      "Enter the price item: $120.0\n",
      "Total price after discount: $612.00\n"
     ]
    }
   ],
   "source": [
    "total_items = int(input(\"Enter the total number of items: \"))\n",
    "price_per_item = float(input(\"Enter the price item: $\"))\n",
    "total_price = total_items * price_per_item\n",
    "\n",
    "if total_items > 5:\n",
    "    discount = total_price * 0.15\n",
    "    total_price -= discount\n",
    "\n",
    "print(f\"Enter the total number of items: {total_items}\")\n",
    "print(f\"Enter the price item: ${price_per_item}\")\n",
    "print(f\"Total price after discount: ${total_price:.2f}\")"
   ]
  },
  {
   "cell_type": "markdown",
   "metadata": {},
   "source": [
    "### 3.\tMembership Discount\n",
    "Check if the customer is a member (is_member = True). Members get a 20% discount; non-members get a 5% discount. Calculate and print the discounted price.\n"
   ]
  },
  {
   "cell_type": "code",
   "execution_count": 6,
   "metadata": {},
   "outputs": [
    {
     "name": "stdout",
     "output_type": "stream",
     "text": [
      "Is the customer a member? (yes/no): True\n",
      "Enter the total price: $120.0\n",
      "Discounted price: $96.00\n"
     ]
    }
   ],
   "source": [
    "is_member = input(\"Is the customer a member? (yes/no): \").lower() == 'yes'\n",
    "total_price = float(input(\"Enter the total price: $\"))\n",
    "\n",
    "if is_member:\n",
    "    discount = total_price * 0.20\n",
    "else:\n",
    "    discount = total_price * 0.05\n",
    "\n",
    "final_price = total_price - discount\n",
    "\n",
    "print(f\"Is the customer a member? (yes/no): {is_member}\")\n",
    "print(f\"Enter the total price: ${total_price}\")\n",
    "print(f\"Discounted price: ${final_price:.2f}\")"
   ]
  },
  {
   "cell_type": "markdown",
   "metadata": {},
   "source": [
    "### 3.\tMembership Discount\n",
    "Check if the customer is a member (is_member = True). Members get a 20% discount; non-members get a 5% discount. Calculate and print the discounted price.\n"
   ]
  },
  {
   "cell_type": "code",
   "execution_count": 7,
   "metadata": {},
   "outputs": [
    {
     "name": "stdout",
     "output_type": "stream",
     "text": [
      "Is the customer a member? (yes/no): True\n",
      "Enter the total price: $5.0\n",
      "Discounted price: $4.00\n"
     ]
    }
   ],
   "source": [
    "is_member = input(\"Is the customer a member? (yes/no): \").lower() == 'yes'\n",
    "total_price = float(input(\"Enter the total price: $\"))\n",
    "\n",
    "if is_member:\n",
    "    discount = total_price * 0.20\n",
    "else:\n",
    "    discount = total_price * 0.05\n",
    "\n",
    "final_price = total_price - discount\n",
    "print(f\"Is the customer a member? (yes/no): {is_member}\")\n",
    "print(f\"Enter the total price: ${total_price}\")\n",
    "print(f\"Discounted price: ${final_price:.2f}\")       "
   ]
  },
  {
   "cell_type": "markdown",
   "metadata": {},
   "source": [
    "#### 4.\tSeasonal Sale\n",
    "If today is a holiday (is_holiday = True), apply a 25% discount; otherwise, apply a 10% discount. Calculate the price after discount."
   ]
  },
  {
   "cell_type": "code",
   "execution_count": null,
   "metadata": {},
   "outputs": [
    {
     "name": "stdout",
     "output_type": "stream",
     "text": [
      "Price after discount: $4.50\n"
     ]
    }
   ],
   "source": [
    "is_holiday = input(\"Is today a holiday? (yes/no): \").lower() == 'yes'\n",
    "total_price = float(input(\"Enter the total price: $\"))\n",
    "\n",
    "if is_holiday:\n",
    "    discount = total_price * 0.25\n",
    "else:\n",
    "    discount = total_price * 0.10\n",
    "\n",
    "final_price = total_price - discount\n",
    "\n",
    "print(f\"Is today a holiday? (yes/no): {is_holiday}\")\n",
    "print(f\"Enter the total price: ${total_price}\")\n",
    "print(f\"Price after discount: ${final_price:.2f}\")"
   ]
  },
  {
   "cell_type": "markdown",
   "metadata": {},
   "source": [
    "### 5.\tBuy-One-Get-One-Free\n",
    "If a customer buys an even number of items, they get half of them for free. Otherwise, they pay for all. Calculate the number of items the customer has to pay for."
   ]
  },
  {
   "cell_type": "code",
   "execution_count": 8,
   "metadata": {},
   "outputs": [
    {
     "name": "stdout",
     "output_type": "stream",
     "text": [
      "Enter the total number of items: 4\n",
      "Items to pay for: 2\n"
     ]
    }
   ],
   "source": [
    "total_items = int(input(\"Enter the total number of items: \"))\n",
    "\n",
    "if total_items % 2 == 0:\n",
    "    items_to_pay = total_items // 2\n",
    "else:\n",
    "    items_to_pay = total_items\n",
    "\n",
    "print(f\"Enter the total number of items: {total_items}\")\n",
    "print(f\"Items to pay for: {items_to_pay}\")"
   ]
  },
  {
   "cell_type": "markdown",
   "metadata": {},
   "source": [
    "## B-\tTax Calculations"
   ]
  },
  {
   "cell_type": "markdown",
   "metadata": {},
   "source": [
    "#### 6.\tSales Tax\n",
    "If the price of an item is greater than $500, apply a luxury tax of 15%. Otherwise, apply a standard tax of 8%. Display the total price after tax.\n",
    "\n"
   ]
  },
  {
   "cell_type": "code",
   "execution_count": 11,
   "metadata": {},
   "outputs": [
    {
     "name": "stdout",
     "output_type": "stream",
     "text": [
      "Enter the price of the item: $650.0\n",
      "Total price after tax: $747.50\n"
     ]
    }
   ],
   "source": [
    "price = float(input(\"Enter the price of the item: $\"))\n",
    "\n",
    "if price > 500:\n",
    "    tax = price * 0.15\n",
    "else:\n",
    "    tax = price * 0.08\n",
    "\n",
    "total_price = price + tax\n",
    "print(f\"Enter the price of the item: ${price}\")\n",
    "print(f\"Total price after tax: ${total_price:.2f}\")"
   ]
  },
  {
   "cell_type": "markdown",
   "metadata": {},
   "source": [
    "#### 7.\tIncome Tax\n",
    "If a person's annual income is above $50,000, they pay 20% tax. Otherwise, they pay 10%. Calculate and display the tax amount.\n"
   ]
  },
  {
   "cell_type": "code",
   "execution_count": 13,
   "metadata": {},
   "outputs": [
    {
     "name": "stdout",
     "output_type": "stream",
     "text": [
      "Enter the annual income: $40000.0\n",
      "Tax amount: $4000.00\n"
     ]
    }
   ],
   "source": [
    "income = float(input(\"Enter the annual income: $\"))\n",
    "\n",
    "if income > 50000:\n",
    "    tax = income * 0.20\n",
    "else:\n",
    "    tax = income * 0.10\n",
    "\n",
    "print(f\"Enter the annual income: ${income}\")\n",
    "print(f\"Tax amount: ${tax:.2f}\")"
   ]
  },
  {
   "cell_type": "markdown",
   "metadata": {},
   "source": [
    "#### 8.\tTax Bracket\n",
    "Write a program to categorize a person into tax brackets:\n",
    "\n",
    "⮚\tIncome < $30,000: \"Low Tax\"\n",
    "\n",
    "⮚\t$30,000 ≤ Income < $100,000: \"Medium Tax\"\n",
    "\n",
    "⮚\tIncome ≥ $100,000: \"High Tax\""
   ]
  },
  {
   "cell_type": "markdown",
   "metadata": {},
   "source": []
  },
  {
   "cell_type": "code",
   "execution_count": 14,
   "metadata": {},
   "outputs": [
    {
     "name": "stdout",
     "output_type": "stream",
     "text": [
      "Enter the annual income: $50000.0\n",
      "Tax Bracket: Medium Tax\n"
     ]
    }
   ],
   "source": [
    "income = float(input(\"Enter the annual income: $\"))\n",
    "\n",
    "if income < 30000:\n",
    "    bracket = \"Low Tax\"\n",
    "elif income < 100000:\n",
    "    bracket = \"Medium Tax\"\n",
    "else:\n",
    "    bracket = \"High Tax\"\n",
    "\n",
    "print(f\"Enter the annual income: ${income}\")\n",
    "print(f\"Tax Bracket: {bracket}\")           "
   ]
  },
  {
   "cell_type": "markdown",
   "metadata": {},
   "source": [
    "#### 9.\tVAT Calculation\n",
    "If the item is marked as essential (is_essential = True), apply a VAT of 5%. Otherwise, apply a VAT of 12%. Display the final price.\n"
   ]
  },
  {
   "cell_type": "code",
   "execution_count": 15,
   "metadata": {},
   "outputs": [
    {
     "name": "stdout",
     "output_type": "stream",
     "text": [
      "Is the item essential? (yes/no): True\n",
      "Enter the price of the item: $50.0\n",
      "Final Price after VAT: $52.50\n"
     ]
    }
   ],
   "source": [
    "is_essential = input(\"Is the item essential? (yes/no): \").lower() == 'yes'\n",
    "price = float(input(\"Enter the price of the item: $\"))\n",
    "\n",
    "if is_essential:\n",
    "    vat = price * 0.05\n",
    "else:\n",
    "    vat = price * 0.12\n",
    "\n",
    "final_price = price + vat\n",
    "\n",
    "print(f\"Is the item essential? (yes/no): {is_essential}\")\n",
    "print(f\"Enter the price of the item: ${price}\")\n",
    "print(f\"Final Price after VAT: ${final_price:.2f}\")"
   ]
  },
  {
   "cell_type": "markdown",
   "metadata": {},
   "source": [
    "#### 10.\tTax-Free Day\n",
    "If today is a tax-free day (tax_free = True), display the original price. Otherwise, add a 7% tax.\n"
   ]
  },
  {
   "cell_type": "code",
   "execution_count": 16,
   "metadata": {},
   "outputs": [
    {
     "name": "stdout",
     "output_type": "stream",
     "text": [
      "Is today a tax free day? (yes/no): True\n",
      "Enter the price of the item: $5000.0\n",
      "Final price: $5000.00\n"
     ]
    }
   ],
   "source": [
    "tax_free = input(\"Is today a tax free day? (yes/no): \").lower() == 'yes'\n",
    "price = float(input(\"Enter the price of the item: $\"))\n",
    "\n",
    "if tax_free:\n",
    "    final_price = price\n",
    "else:\n",
    "    final_price = price * 1.07\n",
    "\n",
    "print(f\"Is today a tax free day? (yes/no): {tax_free}\")\n",
    "print(f\"Enter the price of the item: ${price}\")\n",
    "print(f\"Final price: ${final_price:.2f}\")"
   ]
  },
  {
   "cell_type": "markdown",
   "metadata": {},
   "source": [
    "## C-\tShopping and Billing"
   ]
  },
  {
   "cell_type": "markdown",
   "metadata": {},
   "source": [
    "#### 11.\tFree Shipping\n",
    "If the total purchase amount is more than $50, offer free shipping; otherwise, charge $5 for shipping. Display the total amount including shipping.\n"
   ]
  },
  {
   "cell_type": "code",
   "execution_count": 17,
   "metadata": {},
   "outputs": [
    {
     "name": "stdout",
     "output_type": "stream",
     "text": [
      "Enter the total purchase amount: $5.0\n",
      "Total amount including shipping: $10.00\n"
     ]
    }
   ],
   "source": [
    "total_purchase = float(input(\"Enter the total purchase amount: $\"))\n",
    "\n",
    "if total_purchase > 50:\n",
    "    shipping_cost = 0\n",
    "else:\n",
    "    shipping_cost = 5\n",
    "\n",
    "total_amount = total_purchase + shipping_cost\n",
    "print(f\"Enter the total purchase amount: ${total_purchase}\")\n",
    "print(f\"Total amount including shipping: ${total_amount:.2f}\")"
   ]
  },
  {
   "cell_type": "markdown",
   "metadata": {},
   "source": [
    "#### 12.\tDiscount Code\n",
    "If a customer enters the correct discount code (DISCOUNT10), apply a 10% discount. Otherwise, charge the full amount."
   ]
  },
  {
   "cell_type": "code",
   "execution_count": 5,
   "metadata": {},
   "outputs": [
    {
     "name": "stdout",
     "output_type": "stream",
     "text": [
      "Enter the discount code: DISCOUNT10\n",
      "Enter the total price: $120.0\n",
      "Final price after discount code: $108.00\n"
     ]
    }
   ],
   "source": [
    "discount_code = input(\"Enter the discount code: \")\n",
    "total_price = float(input(\"Enter the total price: $\"))\n",
    "\n",
    "if discount_code == \"DISCOUNT10\":\n",
    "    discount = total_price * 0.10\n",
    "    final_price = total_price - discount\n",
    "else:\n",
    "    final_price = total_price\n",
    "\n",
    "print(f\"Enter the discount code: {discount_code}\")\n",
    "print(f\"Enter the total price: ${total_price}\")\n",
    "print(f\"Final price after discount code: ${final_price:.2f}\")       "
   ]
  },
  {
   "cell_type": "markdown",
   "metadata": {},
   "source": [
    "#### 13.\tTiered Discounts\n",
    "Apply discounts based on the total price:\n",
    "\n",
    "⮚\t$0–$50: No discount.\n",
    "\n",
    "⮚\t$50–$100: 10% discount.\n",
    "\n",
    "⮚\tOver $100: 20% discount."
   ]
  },
  {
   "cell_type": "code",
   "execution_count": 6,
   "metadata": {},
   "outputs": [
    {
     "name": "stdout",
     "output_type": "stream",
     "text": [
      "Enter the total price: $120.0\n",
      "Final Price after discount: $96.00\n"
     ]
    }
   ],
   "source": [
    "total_price = float(input(\"Enter the total price: $\"))\n",
    "\n",
    "if total_price > 100:\n",
    "    discount = total_price * 0.20\n",
    "elif total_price > 50:\n",
    "    discount = total_price * 0.10\n",
    "else:\n",
    "    discount = 0\n",
    "\n",
    "final_price = total_price - discount\n",
    "print(f\"Enter the total price: ${total_price}\")\n",
    "print(f\"Final Price after discount: ${final_price:.2f}\")    "
   ]
  },
  {
   "cell_type": "markdown",
   "metadata": {},
   "source": [
    "#### 14.\tMinimum Purchase Requirement\n",
    "If the total amount is less than $20, display a message: \"Minimum purchase of $20 is required.\" Otherwise, display the total amount.\n"
   ]
  },
  {
   "cell_type": "code",
   "execution_count": 10,
   "metadata": {},
   "outputs": [
    {
     "name": "stdout",
     "output_type": "stream",
     "text": [
      "Enter the total amount: $10.0\n",
      "Minimum purchase of $20 is required.\n"
     ]
    }
   ],
   "source": [
    "total_amount = float(input(\"Enter the total amount: $\"))\n",
    "\n",
    "print(f\"Enter the total amount: ${total_amount}\")\n",
    "\n",
    "if total_amount < 20:\n",
    "    print(\"Minimum purchase of $20 is required.\")\n",
    "else:\n",
    "    print(f\"Total amount: ${total_amount:.2f}\")    "
   ]
  },
  {
   "cell_type": "markdown",
   "metadata": {},
   "source": [
    "#### 15.\tLoyalty Points\n",
    "If a customer is a loyal member (is_loyal = True), they earn double loyalty points for their purchase. Otherwise, they earn standard points\n"
   ]
  },
  {
   "cell_type": "code",
   "execution_count": 1,
   "metadata": {},
   "outputs": [
    {
     "name": "stdout",
     "output_type": "stream",
     "text": [
      "Loyalty points earned: 280.0\n"
     ]
    }
   ],
   "source": [
    "is_loyal = input(\"Is the customer a loyal member? (yes/no): \").lower() == 'yes'\n",
    "purchase_amount = float(input(\"Enter the prucahse amount: $\"))\n",
    "points_per_dollar = 1\n",
    "\n",
    "if is_loyal:\n",
    "    loyalty_points = purchase_amount * points_per_dollar * 2\n",
    "else:\n",
    "    loyalty_points = purchase_amount * points_per_dollar\n",
    "    \n",
    "print(f\"Loyalty points earned: {loyalty_points}\")        "
   ]
  },
  {
   "cell_type": "markdown",
   "metadata": {},
   "source": [
    "## D-\tTravel and Tickets"
   ]
  },
  {
   "cell_type": "markdown",
   "metadata": {},
   "source": [
    "#### 16.\tTravel Discount\n",
    "If a person is traveling more than 500 miles, offer a 20% discount on ticket price. Otherwise, charge the full amount."
   ]
  },
  {
   "cell_type": "code",
   "execution_count": 2,
   "metadata": {},
   "outputs": [
    {
     "name": "stdout",
     "output_type": "stream",
     "text": [
      "Final ticket price: $120.00\n"
     ]
    }
   ],
   "source": [
    "miles_traveled = float(input(\"Enter the miles traveled: \"))\n",
    "ticket_price = float(input(\"Enter the ticket price: $\"))\n",
    "\n",
    "if miles_traveled > 500:\n",
    "    discount = ticket_price * 0.20\n",
    "    final_price = ticket_price - discount\n",
    "else:\n",
    "    final_price = ticket_price\n",
    "\n",
    "print(f\"Final ticket price: ${final_price:.2f}\")"
   ]
  },
  {
   "cell_type": "markdown",
   "metadata": {},
   "source": [
    "#### 17.\tChild or Senior Discount\n",
    "If a passenger is under 12 or over 60 years old, apply a 15% discount on the ticket price. Otherwise, charge the full price.\n"
   ]
  },
  {
   "cell_type": "code",
   "execution_count": 4,
   "metadata": {},
   "outputs": [
    {
     "name": "stdout",
     "output_type": "stream",
     "text": [
      "Final ticket price: $102.00\n"
     ]
    }
   ],
   "source": [
    "age = int(input(\"Enter the passenger's age: \"))\n",
    "ticket_price = float(input(\"Enter the ticket price: $\"))\n",
    "\n",
    "if age < 12 or age > 60:\n",
    "    discount = ticket_price * 0.15\n",
    "    final_price = ticket_price - discount\n",
    "else:\n",
    "    final_price = ticket_price\n",
    "\n",
    "print(f\"Final ticket price: ${final_price:.2f}\")"
   ]
  },
  {
   "cell_type": "markdown",
   "metadata": {},
   "source": [
    "### 18.\tTicket Type Pricing\n",
    "If the ticket is for a weekend (is_weekend = True), add a 10% surcharge. Otherwise, charge the standard price."
   ]
  },
  {
   "cell_type": "code",
   "execution_count": 5,
   "metadata": {},
   "outputs": [
    {
     "name": "stdout",
     "output_type": "stream",
     "text": [
      "Final ticket price: $132.00\n"
     ]
    }
   ],
   "source": [
    "is_weekend = input(\"Is the ticket for a weekend? (yes/no): \").lower() == 'yes'\n",
    "ticket_price = float(input(\"Enter the ticket price: $\"))\n",
    "\n",
    "if is_weekend:\n",
    "    surcharge = ticket_price * 0.10\n",
    "    final_price = ticket_price + surcharge\n",
    "else:\n",
    "    final_price = ticket_price\n",
    "\n",
    "print(f\"Final ticket price: ${final_price:.2f}\")"
   ]
  },
  {
   "cell_type": "markdown",
   "metadata": {},
   "source": [
    "#### 19.\tBaggage Fee\n",
    "If the total baggage weight is over 20kg, charge $10 per extra kilogram. Otherwise, no extra fee."
   ]
  },
  {
   "cell_type": "code",
   "execution_count": 6,
   "metadata": {},
   "outputs": [
    {
     "name": "stdout",
     "output_type": "stream",
     "text": [
      "Extra baggage fee: $450.00\n"
     ]
    }
   ],
   "source": [
    "total_weight = float(input(\"Enter the total baggage weight in kg: \"))\n",
    "extra_weight = total_weight - 20 if total_weight > 20 else 0\n",
    "extra_fee = extra_weight * 10\n",
    "\n",
    "print(f\"Extra baggage fee: ${extra_fee:.2f}\")"
   ]
  },
  {
   "cell_type": "markdown",
   "metadata": {},
   "source": [
    "### 20.\tEarly Bird Discount\n",
    "If a ticket is booked more than 30 days in advance, apply a 10% discount. Otherwise, charge the full price."
   ]
  },
  {
   "cell_type": "code",
   "execution_count": 8,
   "metadata": {},
   "outputs": [
    {
     "name": "stdout",
     "output_type": "stream",
     "text": [
      "Final ticket price: $120.00\n"
     ]
    }
   ],
   "source": [
    "days_in_advance = int(input(\"Enter the number of the days booked in advance: \"))\n",
    "ticket_price = float(input(\"Enter the ticket price: $\"))\n",
    "\n",
    "if days_in_advance > 30:\n",
    "    discount = ticket_price * 0.10\n",
    "    final_price = ticket_price - discount\n",
    "else:\n",
    "    final_price = ticket_price\n",
    "\n",
    "print(f\"Final ticket price: ${final_price:.2f}\")"
   ]
  },
  {
   "cell_type": "markdown",
   "metadata": {},
   "source": [
    "## E-\tGrades and Performance"
   ]
  },
  {
   "cell_type": "markdown",
   "metadata": {},
   "source": [
    "### 21.\tPass or Fail\n",
    "If a student scores 40 or more, print \"Pass\". Otherwise, print \"Fail\"."
   ]
  },
  {
   "cell_type": "code",
   "execution_count": 9,
   "metadata": {},
   "outputs": [
    {
     "name": "stdout",
     "output_type": "stream",
     "text": [
      "Pass\n"
     ]
    }
   ],
   "source": [
    "score = float(input(\"Enter the student's score: \"))\n",
    "\n",
    "if score >= 40:\n",
    "    print(\"Pass\")\n",
    "else:\n",
    "    print(\"Fail\")    "
   ]
  },
  {
   "cell_type": "markdown",
   "metadata": {},
   "source": [
    "### 22.\tGrade Assignment\n",
    "Based on a student's score, assign grades:\n",
    "\n",
    "⮚\t90 and above: \"A\"\n",
    "\n",
    "⮚\t75–89: \"B\"\n",
    "\n",
    "⮚\t50–74: \"C\"\n",
    "\n",
    "⮚\tBelow 50: \"F\""
   ]
  },
  {
   "cell_type": "code",
   "execution_count": 10,
   "metadata": {},
   "outputs": [
    {
     "name": "stdout",
     "output_type": "stream",
     "text": [
      "Grade: B\n"
     ]
    }
   ],
   "source": [
    "score = float(input(\"Enter the student's score: \"))\n",
    "\n",
    "if score >= 90:\n",
    "    grade = \"A\"\n",
    "elif score >= 75:\n",
    "    grade = \"B\"\n",
    "elif score >= 50:\n",
    "    grade = \"C\"\n",
    "else:\n",
    "    grade = \"F\"\n",
    "\n",
    "print(f\"Grade: {grade}\")                "
   ]
  },
  {
   "cell_type": "markdown",
   "metadata": {},
   "source": [
    "### 23.\tBonus Marks\n",
    "If a student completes all assignments, add 5 bonus marks to their score. Otherwise, no bonus marks."
   ]
  },
  {
   "cell_type": "code",
   "execution_count": 11,
   "metadata": {},
   "outputs": [
    {
     "name": "stdout",
     "output_type": "stream",
     "text": [
      "Final score after bonus marks: 10.0\n"
     ]
    }
   ],
   "source": [
    "score = float(input(\"Enter the student's score: \"))\n",
    "completed_assignment = input(\"Has the student completed all assignments (yes/no): \").lower() == 'yes'\n",
    "\n",
    "if completed_assignment:\n",
    "    score += 5\n",
    "\n",
    "print(f\"Final score after bonus marks: {score}\")    "
   ]
  },
  {
   "cell_type": "markdown",
   "metadata": {},
   "source": [
    "### 24.\tAttendance Eligibility\n",
    "If a student's attendance is 75% or more, they are eligible to take the exam. Otherwise, they are not."
   ]
  },
  {
   "cell_type": "code",
   "execution_count": 12,
   "metadata": {},
   "outputs": [
    {
     "name": "stdout",
     "output_type": "stream",
     "text": [
      "Eligible to take the exam\n"
     ]
    }
   ],
   "source": [
    "attendance = float(input(\"Enter the student's attendance percentage: \"))\n",
    "\n",
    "if attendance >= 75:\n",
    "    print(\"Eligible to take the exam\")\n",
    "else:\n",
    "    print(\"Not eligible to take the exam\")    "
   ]
  },
  {
   "cell_type": "markdown",
   "metadata": {},
   "source": [
    "### 25.\tScholarship Eligibility\n",
    "If a student's grade is \"A\" and their annual family income is below $30,000, they are eligible for a scholarship. Otherwise, they are not."
   ]
  },
  {
   "cell_type": "code",
   "execution_count": 15,
   "metadata": {},
   "outputs": [
    {
     "name": "stdout",
     "output_type": "stream",
     "text": [
      "Eligible for scholarship\n"
     ]
    }
   ],
   "source": [
    "grade = input(\"Enter the student's grade: \")\n",
    "family_income = float(input(\"Enter the annual family income: $\"))\n",
    "\n",
    "if grade == \"A\" and family_income < 30000:\n",
    "    print(\"Eligible for scholarship\")\n",
    "else:\n",
    "    print(\"Not eligible for scholarship\")    "
   ]
  },
  {
   "cell_type": "code",
   "execution_count": null,
   "metadata": {},
   "outputs": [],
   "source": []
  }
 ],
 "metadata": {
  "kernelspec": {
   "display_name": "Python 3",
   "language": "python",
   "name": "python3"
  },
  "language_info": {
   "codemirror_mode": {
    "name": "ipython",
    "version": 3
   },
   "file_extension": ".py",
   "mimetype": "text/x-python",
   "name": "python",
   "nbconvert_exporter": "python",
   "pygments_lexer": "ipython3",
   "version": "3.10.11"
  }
 },
 "nbformat": 4,
 "nbformat_minor": 2
}
