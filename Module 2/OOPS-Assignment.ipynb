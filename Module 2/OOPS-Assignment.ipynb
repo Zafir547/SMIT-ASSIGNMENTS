{
 "cells": [
  {
   "cell_type": "markdown",
   "metadata": {},
   "source": [
    "# 1. Person Class\n",
    "\n",
    "Create a Person class with properties for name, age, and country. Include a method to display the person's details."
   ]
  },
  {
   "cell_type": "code",
   "execution_count": 1,
   "metadata": {},
   "outputs": [
    {
     "name": "stdout",
     "output_type": "stream",
     "text": [
      "Name: Alice, Age: 30, Country: USA\n",
      "Name: Bob, Age: 25, Country: Canada\n"
     ]
    }
   ],
   "source": [
    "class Person:\n",
    "    def __init__(self, name, age, country):\n",
    "        self.name = name\n",
    "        self.age = age\n",
    "        self.country = country\n",
    "\n",
    "    def display_details(self):\n",
    "        print(f\"Name: {self.name}, Age: {self.age}, Country: {self.country}\")\n",
    "\n",
    "\n",
    "# Instances\n",
    "person1 = Person(\"Alice\", 30, \"USA\")\n",
    "person2 = Person(\"Bob\", 25, \"Canada\")\n",
    "\n",
    "person1.display_details()\n",
    "person2.display_details()"
   ]
  },
  {
   "cell_type": "markdown",
   "metadata": {},
   "source": [
    "# 2. Rectangle Class\n",
    "\n",
    "Create a Rectangle class with methods to calculate area and perimeter."
   ]
  },
  {
   "cell_type": "code",
   "execution_count": 2,
   "metadata": {},
   "outputs": [
    {
     "name": "stdout",
     "output_type": "stream",
     "text": [
      "Area: 50\n",
      "Perimeter: 30\n"
     ]
    }
   ],
   "source": [
    "class Rectangle:\n",
    "    def __init__(self, width, height):\n",
    "        self.width = width\n",
    "        self.height = height\n",
    "\n",
    "    def calculate_area(self):\n",
    "        return self.width * self.height\n",
    "\n",
    "    def calculate_perimeter(self):\n",
    "        return 2 * (self.width + self.height)\n",
    "\n",
    "# Instance\n",
    "rect = Rectangle(5, 10)\n",
    "print(\"Area:\", rect.calculate_area())\n",
    "print(\"Perimeter:\", rect.calculate_perimeter())"
   ]
  },
  {
   "cell_type": "markdown",
   "metadata": {},
   "source": [
    "# 3. Vehicle and Car Class\n",
    "\n",
    "Create a Vehicle class and a Car subclass."
   ]
  },
  {
   "cell_type": "code",
   "execution_count": 3,
   "metadata": {},
   "outputs": [
    {
     "name": "stdout",
     "output_type": "stream",
     "text": [
      "Make: Toyota, Model: Corolla, Year: 2022\n",
      "Doors: 4\n"
     ]
    }
   ],
   "source": [
    "class Vehicle:\n",
    "    def __init__(self, make, model, year):\n",
    "        self.make = make\n",
    "        self.model = model\n",
    "        self.year = year\n",
    "\n",
    "    def display_details(self):\n",
    "        print(f\"Make: {self.make}, Model: {self.model}, Year: {self.year}\")\n",
    "\n",
    "class Car(Vehicle):\n",
    "    def __init__(self, make, model, year, doors):\n",
    "        super().__init__(make, model, year)\n",
    "        self.doors = doors\n",
    "\n",
    "    def display_details(self):\n",
    "        super().display_details()\n",
    "        print(f\"Doors: {self.doors}\")\n",
    "\n",
    "# Instance\n",
    "car = Car(\"Toyota\", \"Corolla\", 2022, 4)\n",
    "car.display_details()\n"
   ]
  },
  {
   "cell_type": "markdown",
   "metadata": {},
   "source": [
    "# 4. BankAccount Class\n",
    "\n",
    "Create a BankAccount class with deposit and withdraw methods."
   ]
  },
  {
   "cell_type": "code",
   "execution_count": 4,
   "metadata": {},
   "outputs": [
    {
     "name": "stdout",
     "output_type": "stream",
     "text": [
      "Deposited: 1000, New Balance: 1000\n",
      "Withdrew: 300, New Balance: 700\n"
     ]
    }
   ],
   "source": [
    "class BankAccount:\n",
    "    def __init__(self, account_number, balance=0):\n",
    "        self.account_number = account_number\n",
    "        self.balance = balance\n",
    "\n",
    "    def deposit(self, amount):\n",
    "        self.balance += amount\n",
    "        print(f\"Deposited: {amount}, New Balance: {self.balance}\")\n",
    "\n",
    "    def withdraw(self, amount):\n",
    "        if amount > self.balance:\n",
    "            print(\"Insufficient funds\")\n",
    "        else:\n",
    "            self.balance -= amount\n",
    "            print(f\"Withdrew: {amount}, New Balance: {self.balance}\")\n",
    "\n",
    "# Instances\n",
    "account1 = BankAccount(\"12345\")\n",
    "account1.deposit(1000)\n",
    "account1.withdraw(300)"
   ]
  },
  {
   "cell_type": "markdown",
   "metadata": {},
   "source": [
    "# 5. Shape, Circle, and Triangle Classes"
   ]
  },
  {
   "cell_type": "code",
   "execution_count": 5,
   "metadata": {},
   "outputs": [
    {
     "name": "stdout",
     "output_type": "stream",
     "text": [
      "Circle Area: 78.53981633974483\n",
      "Triangle Area: 35.0\n"
     ]
    }
   ],
   "source": [
    "import math\n",
    "\n",
    "class Shape:\n",
    "    def calculate_area(self):\n",
    "        pass\n",
    "\n",
    "class Circle(Shape):\n",
    "    def __init__(self, radius):\n",
    "        self.radius = radius\n",
    "\n",
    "    def calculate_area(self):\n",
    "        return math.pi * self.radius ** 2\n",
    "\n",
    "class Triangle(Shape):\n",
    "    def __init__(self, base, height):\n",
    "        self.base = base\n",
    "        self.height = height\n",
    "\n",
    "    def calculate_area(self):\n",
    "        return 0.5 * self.base * self.height\n",
    "\n",
    "circle = Circle(5)\n",
    "triangle = Triangle(10, 7)\n",
    "print(\"Circle Area:\", circle.calculate_area())\n",
    "print(\"Triangle Area:\", triangle.calculate_area())   "
   ]
  },
  {
   "cell_type": "markdown",
   "metadata": {},
   "source": [
    "# 6. Employee and Manager Classes"
   ]
  },
  {
   "cell_type": "code",
   "execution_count": 7,
   "metadata": {},
   "outputs": [
    {
     "name": "stdout",
     "output_type": "stream",
     "text": [
      "Alice Annual Salary: 61000\n",
      "Bob Annual Salary: 73000\n"
     ]
    }
   ],
   "source": [
    "class Employee:\n",
    "    def __init__(self, name, salary):\n",
    "        self.name = name\n",
    "        self.salary = salary\n",
    "\n",
    "    def calculate_annual_salary(self):\n",
    "        return self.salary * 12\n",
    "\n",
    "class Manager(Employee):\n",
    "    def __init__(self, name, salary, department):\n",
    "        super().__init__(name, salary)\n",
    "        self.department = department\n",
    "\n",
    "    def calculate_annual_salary(self):\n",
    "        return super().calculate_annual_salary() + 1000\n",
    "\n",
    "# Instances\n",
    "manager1 = Manager(\"Alice\", 5000, \"Sales\")\n",
    "manager2 = Manager(\"Bob\", 6000, \"HR\")\n",
    "print(f\"{manager1.name} Annual Salary:\", manager1.calculate_annual_salary())\n",
    "print(f\"{manager2.name} Annual Salary:\", manager2.calculate_annual_salary())\n"
   ]
  },
  {
   "cell_type": "markdown",
   "metadata": {},
   "source": [
    "# 7. Book and Ebook Classes\n"
   ]
  },
  {
   "cell_type": "code",
   "execution_count": 1,
   "metadata": {},
   "outputs": [
    {
     "name": "stdout",
     "output_type": "stream",
     "text": [
      "Title: Python Programming, Auther: John Doe, Year: 2020\n",
      "Price: $15.99\n"
     ]
    }
   ],
   "source": [
    "class Book:\n",
    "    def __init__(self, title, author, publication_year):\n",
    "        self.title = title\n",
    "        self.author = author\n",
    "        self.publication_year = publication_year\n",
    "\n",
    "    def display_details(self):\n",
    "        print(f\"Title: {self.title}, Auther: {self.author}, Year: {self.publication_year}\")\n",
    "\n",
    "class Ebook(Book):\n",
    "    def __init__(self, title, author, publication_year, price):\n",
    "        super().__init__(title, author, publication_year)\n",
    "        self.price = price\n",
    "\n",
    "    def display_details(self):\n",
    "        super().display_details()\n",
    "        print(f\"Price: ${self.price}\")\n",
    "\n",
    "# Instance\n",
    "ebook = Ebook(\"Python Programming\", \"John Doe\", 2020, 15.99)\n",
    "ebook.display_details()"
   ]
  },
  {
   "cell_type": "markdown",
   "metadata": {},
   "source": [
    "# 8. Animal and Dog Classes"
   ]
  },
  {
   "cell_type": "code",
   "execution_count": 2,
   "metadata": {},
   "outputs": [
    {
     "name": "stdout",
     "output_type": "stream",
     "text": [
      "The Dog goes 'Woof\n",
      "The dog's color is Brown\n"
     ]
    }
   ],
   "source": [
    "class Animal:\n",
    "    def __init__(self, species, sound):\n",
    "        self.species = species\n",
    "        self.sound = sound\n",
    "\n",
    "    def make_sound(self):\n",
    "        print(f\"The {self.species} goes '{self.sound}\")\n",
    "\n",
    "class Dog(Animal):\n",
    "    def __init__(self, species, sound, color):\n",
    "        super().__init__(species, sound)\n",
    "        self.color = color\n",
    "\n",
    "    def make_sound(self):\n",
    "        super().make_sound()\n",
    "        print(f\"The dog's color is {self.color}\")\n",
    "\n",
    "# Instance\n",
    "dog = Dog('Dog', 'Woof', 'Brown')\n",
    "dog.make_sound()  # Output: The Dog goes 'Woof', The dog's color is\n",
    "        "
   ]
  },
  {
   "cell_type": "markdown",
   "metadata": {},
   "source": [
    "# 9. Bank Class"
   ]
  },
  {
   "cell_type": "code",
   "execution_count": 3,
   "metadata": {},
   "outputs": [
    {
     "name": "stdout",
     "output_type": "stream",
     "text": [
      "Branch 'New York' added.\n",
      "Branch 'Los Angeles' added.\n",
      "Branch 'New York' removed.\n",
      "Branches: ['Los Angeles']\n"
     ]
    }
   ],
   "source": [
    "class Bank():\n",
    "    def __init__(self):\n",
    "        self.branches = []\n",
    "\n",
    "    def add_branch(self, branch):\n",
    "        self.branches.append(branch)\n",
    "        print(f\"Branch '{branch}' added.\")\n",
    "\n",
    "    def remove_branch(self, branch):\n",
    "        if branch in self.branches:\n",
    "            self.branches.remove(branch)\n",
    "            print(f\"Branch '{branch}' removed.\")\n",
    "        else:\n",
    "            print(f\"Branch '{branch}' not found.\")\n",
    "\n",
    "    def display_branches(self):\n",
    "        print(\"Branches:\", self.branches)\n",
    "\n",
    "# Instance\n",
    "bank = Bank()\n",
    "bank.add_branch(\"New York\")\n",
    "bank.add_branch(\"Los Angeles\")                \n",
    "bank.remove_branch(\"New York\")\n",
    "bank.display_branches()                \n"
   ]
  },
  {
   "cell_type": "markdown",
   "metadata": {},
   "source": [
    "# 10. Product and PersonalCareProduct Classes"
   ]
  },
  {
   "cell_type": "code",
   "execution_count": 4,
   "metadata": {},
   "outputs": [
    {
     "name": "stdout",
     "output_type": "stream",
     "text": [
      "Warranty Period: 12 months\n",
      "Total Price: 150\n"
     ]
    }
   ],
   "source": [
    "class Product:\n",
    "    def __init__(self, product_id, name, price):\n",
    "        self.product_id = product_id\n",
    "        self.name = name\n",
    "        self.price = price\n",
    "    \n",
    "    def calculate_total_price(self, quantity):\n",
    "        return self.price * quantity\n",
    "\n",
    "class PersonalCareProduct(Product):\n",
    "    def __init__(self, product_id, name, price, warrenty_period):\n",
    "        super().__init__(product_id, name, price)\n",
    "        self.warrenty_period = warrenty_period\n",
    "\n",
    "    def calculate_total_price(self, quantity):\n",
    "        total_price = super().calculate_total_price(quantity)\n",
    "        print(f\"Warranty Period: {self.warrenty_period} months\")\n",
    "        return total_price\n",
    "\n",
    "# Instance\n",
    "product = PersonalCareProduct(\"P001\", \"Hair Dryer\", 50, 12)\n",
    "print(\"Total Price:\", product.calculate_total_price(3))    "
   ]
  },
  {
   "cell_type": "markdown",
   "metadata": {},
   "source": [
    "# 11. BankAccount Class with Transfer Functionality"
   ]
  },
  {
   "cell_type": "code",
   "execution_count": null,
   "metadata": {},
   "outputs": [
    {
     "name": "stdout",
     "output_type": "stream",
     "text": [
      "Transferred: 300 to Bob\n",
      "balance: 700\n",
      "balance: 800\n"
     ]
    }
   ],
   "source": [
    "class BankAccount:\n",
    "    def __init__(self, account_number, account_holder, balance=0):\n",
    "        self.account_number = account_number\n",
    "        self.account_holder = account_holder\n",
    "        self.balance = balance\n",
    "\n",
    "    def deposit(self, amount):\n",
    "        self.balance += amount\n",
    "        print(f\"Deposited: {amount}, New Balance: {self.balance}\")    \n",
    "\n",
    "    def withdraw(self, amount):\n",
    "        if amount > self.balance:\n",
    "            print(\"Insufficient funds\")\n",
    "        else:\n",
    "            self.balance -= amount\n",
    "            print(f\"Withdrew: {amount}, New Balance: {self.balance}\")\n",
    "\n",
    "    def transfer(self, amount, target_account):\n",
    "        if amount > self.balance:\n",
    "            print(\"Insufficient funds for transfer\")\n",
    "        else:\n",
    "            self.balance -= amount\n",
    "            target_account.balance += amount                          \n",
    "            print(f\"Transferred: {amount} to {target_account.account_holder}\")\n",
    "\n",
    "    def display_balance(self):\n",
    "        print(\"balance:\", self.balance)        \n",
    "\n",
    "# Instances\n",
    "account1 = BankAccount(\"12345\", \"Alice\", 1000)\n",
    "account2 = BankAccount(\"67890\", \"Bob\", 500)\n",
    "\n",
    "account1.transfer(300, account2)\n",
    "account1.display_balance()\n",
    "account2.display_balance()"
   ]
  },
  {
   "cell_type": "markdown",
   "metadata": {},
   "source": [
    "# 12. University Class"
   ]
  },
  {
   "cell_type": "code",
   "execution_count": 10,
   "metadata": {},
   "outputs": [
    {
     "name": "stdout",
     "output_type": "stream",
     "text": [
      "Department 'Computer Science' added.\n",
      "Department 'Electrical Engineering' added.\n",
      "Department 'Computer Science' removed.\n",
      "Tech University Departments: ['Electrical Engineering']\n"
     ]
    }
   ],
   "source": [
    "class University:\n",
    "    def __init__(self, name):\n",
    "        self.name = name\n",
    "        self.departments = []\n",
    "\n",
    "    def add_department(self, department):\n",
    "        self.departments.append(department)\n",
    "        print(f\"Department '{department}' added.\")\n",
    "\n",
    "    def remove_department(self, department):\n",
    "        if department in self.departments:\n",
    "            self.departments.remove(department)\n",
    "            print(f\"Department '{department}' removed.\")\n",
    "        else:\n",
    "            print(f\"Department '{department}' not found.\")\n",
    "\n",
    "    def display_departments(self):\n",
    "        print(f\"{self.name} Departments: {self.departments}\")\n",
    "\n",
    "# Instance\n",
    "university = University(\"Tech University\")\n",
    "university.add_department(\"Computer Science\")\n",
    "university.add_department(\"Electrical Engineering\")\n",
    "university.remove_department(\"Computer Science\")\n",
    "university.display_departments()"
   ]
  },
  {
   "cell_type": "code",
   "execution_count": null,
   "metadata": {},
   "outputs": [],
   "source": []
  }
 ],
 "metadata": {
  "kernelspec": {
   "display_name": "Python 3",
   "language": "python",
   "name": "python3"
  },
  "language_info": {
   "codemirror_mode": {
    "name": "ipython",
    "version": 3
   },
   "file_extension": ".py",
   "mimetype": "text/x-python",
   "name": "python",
   "nbconvert_exporter": "python",
   "pygments_lexer": "ipython3",
   "version": "3.10.11"
  }
 },
 "nbformat": 4,
 "nbformat_minor": 2
}
