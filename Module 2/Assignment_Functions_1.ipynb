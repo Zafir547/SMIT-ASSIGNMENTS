{
 "cells": [
  {
   "cell_type": "markdown",
   "metadata": {},
   "source": [
    "# FUNCTIONS 1"
   ]
  },
  {
   "cell_type": "markdown",
   "metadata": {},
   "source": [
    "### 1. Find the maximum of three numbers:\n",
    "\n",
    "Write a Python function to find the maximum of three numbers."
   ]
  },
  {
   "cell_type": "code",
   "execution_count": 1,
   "metadata": {},
   "outputs": [
    {
     "name": "stdout",
     "output_type": "stream",
     "text": [
      "5\n"
     ]
    }
   ],
   "source": [
    "def max_of_three(a,b,c):\n",
    "    return max(a,b,c)\n",
    "\n",
    "print(max_of_three(1,5,3))"
   ]
  },
  {
   "cell_type": "markdown",
   "metadata": {},
   "source": [
    "### 2. Sum all the numbers in a list:\n",
    "\n",
    "Write a Python function to sum all the numbers in a list.\n",
    "\n",
    "Sample List : (8, 2, 3, 0, 7)\n",
    "\n",
    "Expected Output : 20"
   ]
  },
  {
   "cell_type": "code",
   "execution_count": 2,
   "metadata": {},
   "outputs": [
    {
     "name": "stdout",
     "output_type": "stream",
     "text": [
      "20\n"
     ]
    }
   ],
   "source": [
    "def sum_list(numbers):\n",
    "    return sum(numbers)\n",
    "\n",
    "print(sum_list([8,2,3,0,7]))"
   ]
  },
  {
   "cell_type": "markdown",
   "metadata": {},
   "source": [
    "### 3. Multiply all the numbers in a list: \n",
    "\n",
    "Write a Python function to multiply all the numbers in a list.\n",
    "\n",
    "Sample List : (8, 2, 3, -1, 7)\n",
    "\n",
    "Expected Output : -336"
   ]
  },
  {
   "cell_type": "code",
   "execution_count": 3,
   "metadata": {},
   "outputs": [
    {
     "name": "stdout",
     "output_type": "stream",
     "text": [
      "-336\n"
     ]
    }
   ],
   "source": [
    "def multiply_list(numbers):\n",
    "    result = 1\n",
    "    for number in numbers:\n",
    "        result *= number\n",
    "    return result\n",
    "\n",
    "print(multiply_list([8,2,3,-1,7]))    "
   ]
  },
  {
   "cell_type": "markdown",
   "metadata": {},
   "source": [
    "### 4. Reverse a string:\n",
    "\n",
    "Write a Python program to reverse a string.\n",
    "\n",
    "Sample String : \"1234abcd\"\n",
    "\n",
    "Expected Output : \"dcba4321\""
   ]
  },
  {
   "cell_type": "code",
   "execution_count": 4,
   "metadata": {},
   "outputs": [
    {
     "name": "stdout",
     "output_type": "stream",
     "text": [
      "dcba4321\n"
     ]
    }
   ],
   "source": [
    "def reverse_string(s):\n",
    "    return s[::-1]\n",
    "\n",
    "print(reverse_string(\"1234abcd\"))"
   ]
  },
  {
   "cell_type": "markdown",
   "metadata": {},
   "source": [
    "### 5. Calculate the factorial of a number:\n",
    "\n",
    "Write a Python function to calculate the factorial of a number (a non-negative\n",
    "integer). The function accepts the number as an argument. "
   ]
  },
  {
   "cell_type": "code",
   "execution_count": 5,
   "metadata": {},
   "outputs": [
    {
     "name": "stdout",
     "output_type": "stream",
     "text": [
      "120\n"
     ]
    }
   ],
   "source": [
    "def factorial(n):\n",
    "    if n == 0:\n",
    "        return 1\n",
    "    else:\n",
    "        return n * factorial(n-1)\n",
    "    \n",
    "print(factorial(5))    "
   ]
  },
  {
   "cell_type": "markdown",
   "metadata": {},
   "source": [
    "### 6. Check whether a number falls within a given range:\n",
    "\n",
    "Write a Python function to check whether a number falls within a given range. "
   ]
  },
  {
   "cell_type": "code",
   "execution_count": 6,
   "metadata": {},
   "outputs": [
    {
     "name": "stdout",
     "output_type": "stream",
     "text": [
      "True\n"
     ]
    }
   ],
   "source": [
    "def is_in_range(number, start, end):\n",
    "    return start <= number <= end\n",
    "\n",
    "print(is_in_range(5,1,10))"
   ]
  },
  {
   "cell_type": "markdown",
   "metadata": {},
   "source": [
    "### 7. Count upper and lower case letters in a string:\n",
    "\n",
    "Write a Python function that accepts a string and counts the number of upper\n",
    "and lower case letters.\n",
    "\n",
    "Sample String : 'The quick Brow Fox'\n",
    "\n",
    "Expected Output :\n",
    "\n",
    "No. of Upper case characters : 3\n",
    "\n",
    "No. of Lower case Characters : 12 "
   ]
  },
  {
   "cell_type": "code",
   "execution_count": 7,
   "metadata": {},
   "outputs": [
    {
     "name": "stdout",
     "output_type": "stream",
     "text": [
      "No. of Upper case characters: 3\n",
      "No. of Lower case characters: 12\n"
     ]
    }
   ],
   "source": [
    "def count_upper_lower(s):\n",
    "    upper_count = sum(1 for c in s if c.isupper())\n",
    "    lower_count = sum(1 for c in s if c.islower())\n",
    "    return upper_count, lower_count\n",
    "\n",
    "upper, lower = count_upper_lower('The quick Brow Fox')\n",
    "print(f\"No. of Upper case characters: {upper}\")\n",
    "print(f\"No. of Lower case characters: {lower}\")"
   ]
  },
  {
   "cell_type": "markdown",
   "metadata": {},
   "source": [
    "### 8. Return a new list with distinct elements from the first list:\n",
    "\n",
    "Write a Python function that takes a list and returns a new list with distinct\n",
    "\n",
    "elements from the first list.\n",
    "\n",
    "Sample List : [1,2,3,3,3,3,4,5] \n",
    "\n",
    "Unique List : [1, 2, 3, 4, 5]"
   ]
  },
  {
   "cell_type": "code",
   "execution_count": 8,
   "metadata": {},
   "outputs": [
    {
     "name": "stdout",
     "output_type": "stream",
     "text": [
      "[1, 2, 3, 4, 5]\n"
     ]
    }
   ],
   "source": [
    "def unique_list(lst):\n",
    "    return list(set(lst))\n",
    "\n",
    "print(unique_list([1,2,3,3,3,3,4,5]))"
   ]
  },
  {
   "cell_type": "markdown",
   "metadata": {},
   "source": [
    "### 9. Check whether a number is prime:\n",
    "\n",
    "Write a Python function that takes a number as a parameter and checks\n",
    "whether the number is prime or not.\n",
    "\n",
    "Note : A prime number (or a prime) is a natural number greater than 1 and that\n",
    "has no positive divisors other than 1 and itself."
   ]
  },
  {
   "cell_type": "code",
   "execution_count": 9,
   "metadata": {},
   "outputs": [
    {
     "name": "stdout",
     "output_type": "stream",
     "text": [
      "True\n",
      "False\n"
     ]
    }
   ],
   "source": [
    "def is_prime(n):\n",
    "    if n <= 1:\n",
    "        return False\n",
    "    for i in range(2, int(n**0.5) + 1):\n",
    "        if n % i == 0:\n",
    "            return False\n",
    "    return True\n",
    "\n",
    "print(is_prime(7))\n",
    "print(is_prime(10))    "
   ]
  },
  {
   "cell_type": "markdown",
   "metadata": {},
   "source": [
    "### 10. Print even numbers from a given list:\n",
    "\n",
    "Write a Python program to print the even numbers from a given list.\n",
    "\n",
    "Sample List : [1, 2, 3, 4, 5, 6, 7, 8, 9]\n",
    "\n",
    "Expected Result : [2, 4, 6, 8] "
   ]
  },
  {
   "cell_type": "code",
   "execution_count": 10,
   "metadata": {},
   "outputs": [
    {
     "name": "stdout",
     "output_type": "stream",
     "text": [
      "[2, 4, 6, 8]\n"
     ]
    }
   ],
   "source": [
    "def get_even_numbers(lst):\n",
    "    return [num for num in lst if num % 2 == 0]\n",
    "\n",
    "print(get_even_numbers([1,2,3,4,5,6,7,8,9,]))"
   ]
  },
  {
   "cell_type": "markdown",
   "metadata": {},
   "source": [
    "### 11.Check whether a number is \"Perfect\":\n",
    "\n",
    "Write a Python function to check whether a number is \"Perfect\" or not.\n",
    "According to Wikipedia : In number theory, a perfect number is a positive integer\n",
    "that is equal to the sum of its proper positive divisors, that is, the sum of its\n",
    "positive divisors excluding the number itself (also known as its aliquot sum).\n",
    "Equivalently, a perfect number is a number that is half the sum of all of its\n",
    "positive divisors (including itself).\n",
    "\n",
    "Example : The first perfect number is 6, because 1, 2, and 3 are its proper positive\n",
    "divisors, and 1 + 2 + 3 = 6. Equivalently, the number 6 is equal to half the sum of\n",
    "all its positive divisors: ( 1 + 2 + 3 + 6 ) / 2 = 6. The next perfect number is 28 = 1 + 2 + 4 + 7 + 14. This is followed by the perfect numbers 496 and 8128. "
   ]
  },
  {
   "cell_type": "code",
   "execution_count": 11,
   "metadata": {},
   "outputs": [
    {
     "name": "stdout",
     "output_type": "stream",
     "text": [
      "True\n",
      "True\n",
      "False\n"
     ]
    }
   ],
   "source": [
    "def is_perfect(n):\n",
    "    if n < 1:\n",
    "        return False\n",
    "    divisers = [i for i in range(1,n) if n % i == 0]\n",
    "    return sum(divisers) == n\n",
    "\n",
    "print(is_perfect(6))\n",
    "print(is_perfect(28))\n",
    "print(is_perfect(10))"
   ]
  },
  {
   "cell_type": "markdown",
   "metadata": {},
   "source": [
    "### 12. Check whether a string is a palindrome:\n",
    "\n",
    "Write a Python function that checks whether a passed string is a palindrome\n",
    "or not.\n",
    "\n",
    "Note: A palindrome is a word, phrase, or sequence that reads the same backward\n",
    "as forward, e.g., madam or nurses run. "
   ]
  },
  {
   "cell_type": "code",
   "execution_count": 12,
   "metadata": {},
   "outputs": [
    {
     "name": "stdout",
     "output_type": "stream",
     "text": [
      "True\n",
      "True\n",
      "False\n"
     ]
    }
   ],
   "source": [
    "def is_palindrome(s):\n",
    "    return s == s[::-1]\n",
    "\n",
    "print(is_palindrome('madam'))\n",
    "print(is_palindrome('nurses run'.replace(' ', '')))\n",
    "print(is_palindrome('hello'))"
   ]
  }
 ],
 "metadata": {
  "kernelspec": {
   "display_name": "Python 3",
   "language": "python",
   "name": "python3"
  },
  "language_info": {
   "codemirror_mode": {
    "name": "ipython",
    "version": 3
   },
   "file_extension": ".py",
   "mimetype": "text/x-python",
   "name": "python",
   "nbconvert_exporter": "python",
   "pygments_lexer": "ipython3",
   "version": "3.10.11"
  }
 },
 "nbformat": 4,
 "nbformat_minor": 2
}
