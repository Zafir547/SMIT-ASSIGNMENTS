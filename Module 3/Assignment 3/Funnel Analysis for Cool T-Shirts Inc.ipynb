{
 "cells": [
  {
   "cell_type": "markdown",
   "id": "517d77cf",
   "metadata": {},
   "source": [
    "# **Step 1: Inspect the DataFrames**"
   ]
  },
  {
   "cell_type": "code",
   "execution_count": 1,
   "id": "8781874e",
   "metadata": {},
   "outputs": [],
   "source": [
    "import pandas as pd"
   ]
  },
  {
   "cell_type": "code",
   "execution_count": 2,
   "id": "30302ef6",
   "metadata": {},
   "outputs": [],
   "source": [
    "visits = pd.read_csv(\"visits.csv\")\n",
    "cart = pd.read_csv(\"cart.csv\")\n",
    "checkout = pd.read_csv(\"checkout.csv\")\n",
    "purchase = pd.read_csv(\"purchase.csv\")"
   ]
  },
  {
   "cell_type": "markdown",
   "id": "65b47b95",
   "metadata": {},
   "source": [
    "#### Inspect DataFrames"
   ]
  },
  {
   "cell_type": "code",
   "execution_count": 3,
   "id": "56cf216e",
   "metadata": {},
   "outputs": [
    {
     "name": "stdout",
     "output_type": "stream",
     "text": [
      "Visits DataFrame:\n"
     ]
    },
    {
     "data": {
      "text/html": [
       "<div>\n",
       "<style scoped>\n",
       "    .dataframe tbody tr th:only-of-type {\n",
       "        vertical-align: middle;\n",
       "    }\n",
       "\n",
       "    .dataframe tbody tr th {\n",
       "        vertical-align: top;\n",
       "    }\n",
       "\n",
       "    .dataframe thead th {\n",
       "        text-align: right;\n",
       "    }\n",
       "</style>\n",
       "<table border=\"1\" class=\"dataframe\">\n",
       "  <thead>\n",
       "    <tr style=\"text-align: right;\">\n",
       "      <th></th>\n",
       "      <th>user_id</th>\n",
       "      <th>visit_time</th>\n",
       "    </tr>\n",
       "  </thead>\n",
       "  <tbody>\n",
       "    <tr>\n",
       "      <th>0</th>\n",
       "      <td>943647ef-3682-4750-a2e1-918ba6f16188</td>\n",
       "      <td>2017-04-07 15:14:00</td>\n",
       "    </tr>\n",
       "    <tr>\n",
       "      <th>1</th>\n",
       "      <td>0c3a3dd0-fb64-4eac-bf84-ba069ce409f2</td>\n",
       "      <td>2017-01-26 14:24:00</td>\n",
       "    </tr>\n",
       "    <tr>\n",
       "      <th>2</th>\n",
       "      <td>6e0b2d60-4027-4d9a-babd-0e7d40859fb1</td>\n",
       "      <td>2017-08-20 08:23:00</td>\n",
       "    </tr>\n",
       "    <tr>\n",
       "      <th>3</th>\n",
       "      <td>6879527e-c5a6-4d14-b2da-50b85212b0ab</td>\n",
       "      <td>2017-11-04 18:15:00</td>\n",
       "    </tr>\n",
       "    <tr>\n",
       "      <th>4</th>\n",
       "      <td>a84327ff-5daa-4ba1-b789-d5b4caf81e96</td>\n",
       "      <td>2017-02-27 11:25:00</td>\n",
       "    </tr>\n",
       "  </tbody>\n",
       "</table>\n",
       "</div>"
      ],
      "text/plain": [
       "                                user_id           visit_time\n",
       "0  943647ef-3682-4750-a2e1-918ba6f16188  2017-04-07 15:14:00\n",
       "1  0c3a3dd0-fb64-4eac-bf84-ba069ce409f2  2017-01-26 14:24:00\n",
       "2  6e0b2d60-4027-4d9a-babd-0e7d40859fb1  2017-08-20 08:23:00\n",
       "3  6879527e-c5a6-4d14-b2da-50b85212b0ab  2017-11-04 18:15:00\n",
       "4  a84327ff-5daa-4ba1-b789-d5b4caf81e96  2017-02-27 11:25:00"
      ]
     },
     "execution_count": 3,
     "metadata": {},
     "output_type": "execute_result"
    }
   ],
   "source": [
    "print(\"Visits DataFrame:\")\n",
    "visits.head()"
   ]
  },
  {
   "cell_type": "code",
   "execution_count": 4,
   "id": "c97d4f60",
   "metadata": {},
   "outputs": [
    {
     "name": "stdout",
     "output_type": "stream",
     "text": [
      "Cart DataFrame:\n"
     ]
    },
    {
     "data": {
      "text/html": [
       "<div>\n",
       "<style scoped>\n",
       "    .dataframe tbody tr th:only-of-type {\n",
       "        vertical-align: middle;\n",
       "    }\n",
       "\n",
       "    .dataframe tbody tr th {\n",
       "        vertical-align: top;\n",
       "    }\n",
       "\n",
       "    .dataframe thead th {\n",
       "        text-align: right;\n",
       "    }\n",
       "</style>\n",
       "<table border=\"1\" class=\"dataframe\">\n",
       "  <thead>\n",
       "    <tr style=\"text-align: right;\">\n",
       "      <th></th>\n",
       "      <th>user_id</th>\n",
       "      <th>cart_time</th>\n",
       "    </tr>\n",
       "  </thead>\n",
       "  <tbody>\n",
       "    <tr>\n",
       "      <th>0</th>\n",
       "      <td>2be90e7c-9cca-44e0-bcc5-124b945ff168</td>\n",
       "      <td>2017-11-07 20:45:00</td>\n",
       "    </tr>\n",
       "    <tr>\n",
       "      <th>1</th>\n",
       "      <td>4397f73f-1da3-4ab3-91af-762792e25973</td>\n",
       "      <td>2017-05-27 01:35:00</td>\n",
       "    </tr>\n",
       "    <tr>\n",
       "      <th>2</th>\n",
       "      <td>a9db3d4b-0a0a-4398-a55a-ebb2c7adf663</td>\n",
       "      <td>2017-03-04 10:38:00</td>\n",
       "    </tr>\n",
       "    <tr>\n",
       "      <th>3</th>\n",
       "      <td>b594862a-36c5-47d5-b818-6e9512b939b3</td>\n",
       "      <td>2017-09-27 08:22:00</td>\n",
       "    </tr>\n",
       "    <tr>\n",
       "      <th>4</th>\n",
       "      <td>a68a16e2-94f0-4ce8-8ce3-784af0bbb974</td>\n",
       "      <td>2017-07-26 15:48:00</td>\n",
       "    </tr>\n",
       "  </tbody>\n",
       "</table>\n",
       "</div>"
      ],
      "text/plain": [
       "                                user_id            cart_time\n",
       "0  2be90e7c-9cca-44e0-bcc5-124b945ff168  2017-11-07 20:45:00\n",
       "1  4397f73f-1da3-4ab3-91af-762792e25973  2017-05-27 01:35:00\n",
       "2  a9db3d4b-0a0a-4398-a55a-ebb2c7adf663  2017-03-04 10:38:00\n",
       "3  b594862a-36c5-47d5-b818-6e9512b939b3  2017-09-27 08:22:00\n",
       "4  a68a16e2-94f0-4ce8-8ce3-784af0bbb974  2017-07-26 15:48:00"
      ]
     },
     "execution_count": 4,
     "metadata": {},
     "output_type": "execute_result"
    }
   ],
   "source": [
    "print(\"Cart DataFrame:\")\n",
    "cart.head()"
   ]
  },
  {
   "cell_type": "code",
   "execution_count": 5,
   "id": "63cb99ba",
   "metadata": {},
   "outputs": [
    {
     "name": "stdout",
     "output_type": "stream",
     "text": [
      "Checkout DataFrame:\n"
     ]
    },
    {
     "data": {
      "text/html": [
       "<div>\n",
       "<style scoped>\n",
       "    .dataframe tbody tr th:only-of-type {\n",
       "        vertical-align: middle;\n",
       "    }\n",
       "\n",
       "    .dataframe tbody tr th {\n",
       "        vertical-align: top;\n",
       "    }\n",
       "\n",
       "    .dataframe thead th {\n",
       "        text-align: right;\n",
       "    }\n",
       "</style>\n",
       "<table border=\"1\" class=\"dataframe\">\n",
       "  <thead>\n",
       "    <tr style=\"text-align: right;\">\n",
       "      <th></th>\n",
       "      <th>user_id</th>\n",
       "      <th>checkout_time</th>\n",
       "    </tr>\n",
       "  </thead>\n",
       "  <tbody>\n",
       "    <tr>\n",
       "      <th>0</th>\n",
       "      <td>d33bdc47-4afa-45bc-b4e4-dbe948e34c0d</td>\n",
       "      <td>2017-06-25 09:29:00</td>\n",
       "    </tr>\n",
       "    <tr>\n",
       "      <th>1</th>\n",
       "      <td>4ac186f0-9954-4fea-8a27-c081e428e34e</td>\n",
       "      <td>2017-04-07 20:11:00</td>\n",
       "    </tr>\n",
       "    <tr>\n",
       "      <th>2</th>\n",
       "      <td>3c9c78a7-124a-4b77-8d2e-e1926e011e7d</td>\n",
       "      <td>2017-07-13 11:38:00</td>\n",
       "    </tr>\n",
       "    <tr>\n",
       "      <th>3</th>\n",
       "      <td>89fe330a-8966-4756-8f7c-3bdbcd47279a</td>\n",
       "      <td>2017-04-20 16:15:00</td>\n",
       "    </tr>\n",
       "    <tr>\n",
       "      <th>4</th>\n",
       "      <td>3ccdaf69-2d30-40de-b083-51372881aedd</td>\n",
       "      <td>2017-01-08 20:52:00</td>\n",
       "    </tr>\n",
       "  </tbody>\n",
       "</table>\n",
       "</div>"
      ],
      "text/plain": [
       "                                user_id        checkout_time\n",
       "0  d33bdc47-4afa-45bc-b4e4-dbe948e34c0d  2017-06-25 09:29:00\n",
       "1  4ac186f0-9954-4fea-8a27-c081e428e34e  2017-04-07 20:11:00\n",
       "2  3c9c78a7-124a-4b77-8d2e-e1926e011e7d  2017-07-13 11:38:00\n",
       "3  89fe330a-8966-4756-8f7c-3bdbcd47279a  2017-04-20 16:15:00\n",
       "4  3ccdaf69-2d30-40de-b083-51372881aedd  2017-01-08 20:52:00"
      ]
     },
     "execution_count": 5,
     "metadata": {},
     "output_type": "execute_result"
    }
   ],
   "source": [
    "print(\"Checkout DataFrame:\")\n",
    "checkout.head()"
   ]
  },
  {
   "cell_type": "code",
   "execution_count": 6,
   "id": "b16e65c9",
   "metadata": {},
   "outputs": [
    {
     "name": "stdout",
     "output_type": "stream",
     "text": [
      "Purchase DataFrame:\n"
     ]
    },
    {
     "data": {
      "text/html": [
       "<div>\n",
       "<style scoped>\n",
       "    .dataframe tbody tr th:only-of-type {\n",
       "        vertical-align: middle;\n",
       "    }\n",
       "\n",
       "    .dataframe tbody tr th {\n",
       "        vertical-align: top;\n",
       "    }\n",
       "\n",
       "    .dataframe thead th {\n",
       "        text-align: right;\n",
       "    }\n",
       "</style>\n",
       "<table border=\"1\" class=\"dataframe\">\n",
       "  <thead>\n",
       "    <tr style=\"text-align: right;\">\n",
       "      <th></th>\n",
       "      <th>user_id</th>\n",
       "      <th>purchase_time</th>\n",
       "    </tr>\n",
       "  </thead>\n",
       "  <tbody>\n",
       "    <tr>\n",
       "      <th>0</th>\n",
       "      <td>4b44ace4-2721-47a0-b24b-15fbfa2abf85</td>\n",
       "      <td>2017-05-11 04:25:00</td>\n",
       "    </tr>\n",
       "    <tr>\n",
       "      <th>1</th>\n",
       "      <td>02e684ae-a448-408f-a9ff-dcb4a5c99aac</td>\n",
       "      <td>2017-09-05 08:45:00</td>\n",
       "    </tr>\n",
       "    <tr>\n",
       "      <th>2</th>\n",
       "      <td>4b4bc391-749e-4b90-ab8f-4f6e3c84d6dc</td>\n",
       "      <td>2017-11-20 20:49:00</td>\n",
       "    </tr>\n",
       "    <tr>\n",
       "      <th>3</th>\n",
       "      <td>a5dbb25f-3c36-4103-9030-9f7c6241cd8d</td>\n",
       "      <td>2017-01-22 15:18:00</td>\n",
       "    </tr>\n",
       "    <tr>\n",
       "      <th>4</th>\n",
       "      <td>46a3186d-7f5a-4ab9-87af-84d05bfd4867</td>\n",
       "      <td>2017-06-11 11:32:00</td>\n",
       "    </tr>\n",
       "  </tbody>\n",
       "</table>\n",
       "</div>"
      ],
      "text/plain": [
       "                                user_id        purchase_time\n",
       "0  4b44ace4-2721-47a0-b24b-15fbfa2abf85  2017-05-11 04:25:00\n",
       "1  02e684ae-a448-408f-a9ff-dcb4a5c99aac  2017-09-05 08:45:00\n",
       "2  4b4bc391-749e-4b90-ab8f-4f6e3c84d6dc  2017-11-20 20:49:00\n",
       "3  a5dbb25f-3c36-4103-9030-9f7c6241cd8d  2017-01-22 15:18:00\n",
       "4  46a3186d-7f5a-4ab9-87af-84d05bfd4867  2017-06-11 11:32:00"
      ]
     },
     "execution_count": 6,
     "metadata": {},
     "output_type": "execute_result"
    }
   ],
   "source": [
    "print(\"Purchase DataFrame:\")\n",
    "purchase.head()"
   ]
  },
  {
   "cell_type": "markdown",
   "id": "c9c041de",
   "metadata": {},
   "source": [
    "# **Step 2: Combine visits and cart using a left merge**"
   ]
  },
  {
   "cell_type": "code",
   "execution_count": 7,
   "id": "c9b4f518",
   "metadata": {},
   "outputs": [],
   "source": [
    "visits_cart = pd.merge(visits, cart, how='left', on='user_id')"
   ]
  },
  {
   "cell_type": "markdown",
   "id": "b0b17088",
   "metadata": {},
   "source": [
    "# **Step 3: Length of merged DataFrame**"
   ]
  },
  {
   "cell_type": "code",
   "execution_count": 8,
   "id": "9e060410",
   "metadata": {},
   "outputs": [
    {
     "name": "stdout",
     "output_type": "stream",
     "text": [
      "2000\n"
     ]
    }
   ],
   "source": [
    "print(len(visits_cart))"
   ]
  },
  {
   "cell_type": "markdown",
   "id": "18e6d54e",
   "metadata": {},
   "source": [
    "# **Step 4: Count null timestamps in cart_time**"
   ]
  },
  {
   "cell_type": "code",
   "execution_count": 9,
   "id": "f3ac6778",
   "metadata": {},
   "outputs": [
    {
     "name": "stdout",
     "output_type": "stream",
     "text": [
      "Number of null cart_time values: 1652\n"
     ]
    }
   ],
   "source": [
    "null_cart_time = visits_cart.cart_time.isnull().sum()\n",
    "print(f\"Number of null cart_time values: {null_cart_time}\")"
   ]
  },
  {
   "cell_type": "markdown",
   "id": "b7dba491",
   "metadata": {},
   "source": [
    "# **Step 5: Percentage of users not adding to cart**"
   ]
  },
  {
   "cell_type": "code",
   "execution_count": 10,
   "id": "f507c0e7",
   "metadata": {},
   "outputs": [
    {
     "data": {
      "text/plain": [
       "2000"
      ]
     },
     "execution_count": 10,
     "metadata": {},
     "output_type": "execute_result"
    }
   ],
   "source": [
    "total_visits = len(visits_cart)\n",
    "total_visits"
   ]
  },
  {
   "cell_type": "code",
   "execution_count": 11,
   "id": "453f705c",
   "metadata": {},
   "outputs": [
    {
     "data": {
      "text/plain": [
       "np.int64(1652)"
      ]
     },
     "execution_count": 11,
     "metadata": {},
     "output_type": "execute_result"
    }
   ],
   "source": [
    "not_added_to_cart = visits_cart.cart_time.isnull().sum()\n",
    "not_added_to_cart"
   ]
  },
  {
   "cell_type": "code",
   "execution_count": 12,
   "id": "34314d10",
   "metadata": {},
   "outputs": [
    {
     "name": "stdout",
     "output_type": "stream",
     "text": [
      "Percentage of users who did not add to cart: 82.60%\n"
     ]
    }
   ],
   "source": [
    "percent_not_added = (not_added_to_cart / float(total_visits)) * 100\n",
    "print(f\"Percentage of users who did not add to cart: {percent_not_added:.2f}%\")"
   ]
  },
  {
   "cell_type": "markdown",
   "id": "aee1c999",
   "metadata": {},
   "source": [
    "# **Step 6: Merge cart and checkout, count nulls, calculate percentage**"
   ]
  },
  {
   "cell_type": "code",
   "execution_count": 13,
   "id": "56498e2b",
   "metadata": {},
   "outputs": [
    {
     "data": {
      "text/html": [
       "<div>\n",
       "<style scoped>\n",
       "    .dataframe tbody tr th:only-of-type {\n",
       "        vertical-align: middle;\n",
       "    }\n",
       "\n",
       "    .dataframe tbody tr th {\n",
       "        vertical-align: top;\n",
       "    }\n",
       "\n",
       "    .dataframe thead th {\n",
       "        text-align: right;\n",
       "    }\n",
       "</style>\n",
       "<table border=\"1\" class=\"dataframe\">\n",
       "  <thead>\n",
       "    <tr style=\"text-align: right;\">\n",
       "      <th></th>\n",
       "      <th>user_id</th>\n",
       "      <th>cart_time</th>\n",
       "      <th>checkout_time</th>\n",
       "    </tr>\n",
       "  </thead>\n",
       "  <tbody>\n",
       "    <tr>\n",
       "      <th>0</th>\n",
       "      <td>2be90e7c-9cca-44e0-bcc5-124b945ff168</td>\n",
       "      <td>2017-11-07 20:45:00</td>\n",
       "      <td>2017-11-07 21:14:00</td>\n",
       "    </tr>\n",
       "    <tr>\n",
       "      <th>1</th>\n",
       "      <td>2be90e7c-9cca-44e0-bcc5-124b945ff168</td>\n",
       "      <td>2017-11-07 20:45:00</td>\n",
       "      <td>2017-11-07 20:50:00</td>\n",
       "    </tr>\n",
       "    <tr>\n",
       "      <th>2</th>\n",
       "      <td>2be90e7c-9cca-44e0-bcc5-124b945ff168</td>\n",
       "      <td>2017-11-07 20:45:00</td>\n",
       "      <td>2017-11-07 21:11:00</td>\n",
       "    </tr>\n",
       "    <tr>\n",
       "      <th>3</th>\n",
       "      <td>4397f73f-1da3-4ab3-91af-762792e25973</td>\n",
       "      <td>2017-05-27 01:35:00</td>\n",
       "      <td>NaN</td>\n",
       "    </tr>\n",
       "    <tr>\n",
       "      <th>4</th>\n",
       "      <td>a9db3d4b-0a0a-4398-a55a-ebb2c7adf663</td>\n",
       "      <td>2017-03-04 10:38:00</td>\n",
       "      <td>2017-03-04 11:04:00</td>\n",
       "    </tr>\n",
       "    <tr>\n",
       "      <th>...</th>\n",
       "      <td>...</td>\n",
       "      <td>...</td>\n",
       "      <td>...</td>\n",
       "    </tr>\n",
       "    <tr>\n",
       "      <th>477</th>\n",
       "      <td>59d2b685-383a-4fce-a325-35d985713a8b</td>\n",
       "      <td>2017-01-20 03:58:00</td>\n",
       "      <td>NaN</td>\n",
       "    </tr>\n",
       "    <tr>\n",
       "      <th>478</th>\n",
       "      <td>a1203970-92ae-4fc7-843e-e1740c1be9d5</td>\n",
       "      <td>2017-11-12 23:07:00</td>\n",
       "      <td>NaN</td>\n",
       "    </tr>\n",
       "    <tr>\n",
       "      <th>479</th>\n",
       "      <td>55de53ae-89f6-43ff-a26d-df284678aca1</td>\n",
       "      <td>2017-03-17 19:56:00</td>\n",
       "      <td>2017-03-17 20:04:00</td>\n",
       "    </tr>\n",
       "    <tr>\n",
       "      <th>480</th>\n",
       "      <td>0ea4cc68-dae4-4e35-b3e0-f0889932e1b5</td>\n",
       "      <td>2017-05-12 08:53:00</td>\n",
       "      <td>2017-05-12 08:57:00</td>\n",
       "    </tr>\n",
       "    <tr>\n",
       "      <th>481</th>\n",
       "      <td>0ea4cc68-dae4-4e35-b3e0-f0889932e1b5</td>\n",
       "      <td>2017-05-12 08:53:00</td>\n",
       "      <td>2017-05-12 09:20:00</td>\n",
       "    </tr>\n",
       "  </tbody>\n",
       "</table>\n",
       "<p>482 rows × 3 columns</p>\n",
       "</div>"
      ],
      "text/plain": [
       "                                  user_id            cart_time  \\\n",
       "0    2be90e7c-9cca-44e0-bcc5-124b945ff168  2017-11-07 20:45:00   \n",
       "1    2be90e7c-9cca-44e0-bcc5-124b945ff168  2017-11-07 20:45:00   \n",
       "2    2be90e7c-9cca-44e0-bcc5-124b945ff168  2017-11-07 20:45:00   \n",
       "3    4397f73f-1da3-4ab3-91af-762792e25973  2017-05-27 01:35:00   \n",
       "4    a9db3d4b-0a0a-4398-a55a-ebb2c7adf663  2017-03-04 10:38:00   \n",
       "..                                    ...                  ...   \n",
       "477  59d2b685-383a-4fce-a325-35d985713a8b  2017-01-20 03:58:00   \n",
       "478  a1203970-92ae-4fc7-843e-e1740c1be9d5  2017-11-12 23:07:00   \n",
       "479  55de53ae-89f6-43ff-a26d-df284678aca1  2017-03-17 19:56:00   \n",
       "480  0ea4cc68-dae4-4e35-b3e0-f0889932e1b5  2017-05-12 08:53:00   \n",
       "481  0ea4cc68-dae4-4e35-b3e0-f0889932e1b5  2017-05-12 08:53:00   \n",
       "\n",
       "           checkout_time  \n",
       "0    2017-11-07 21:14:00  \n",
       "1    2017-11-07 20:50:00  \n",
       "2    2017-11-07 21:11:00  \n",
       "3                    NaN  \n",
       "4    2017-03-04 11:04:00  \n",
       "..                   ...  \n",
       "477                  NaN  \n",
       "478                  NaN  \n",
       "479  2017-03-17 20:04:00  \n",
       "480  2017-05-12 08:57:00  \n",
       "481  2017-05-12 09:20:00  \n",
       "\n",
       "[482 rows x 3 columns]"
      ]
     },
     "execution_count": 13,
     "metadata": {},
     "output_type": "execute_result"
    }
   ],
   "source": [
    "cart_checkout = pd.merge(cart, checkout, how='left', on='user_id')\n",
    "cart_checkout"
   ]
  },
  {
   "cell_type": "code",
   "execution_count": 14,
   "id": "192a80d6",
   "metadata": {},
   "outputs": [
    {
     "data": {
      "text/plain": [
       "np.int64(122)"
      ]
     },
     "execution_count": 14,
     "metadata": {},
     "output_type": "execute_result"
    }
   ],
   "source": [
    "null_checkout_time = cart_checkout.checkout_time.isnull().sum()\n",
    "null_checkout_time"
   ]
  },
  {
   "cell_type": "code",
   "execution_count": 16,
   "id": "5ce31d28",
   "metadata": {},
   "outputs": [
    {
     "data": {
      "text/plain": [
       "482"
      ]
     },
     "execution_count": 16,
     "metadata": {},
     "output_type": "execute_result"
    }
   ],
   "source": [
    "total_cart = len(cart_checkout)\n",
    "total_cart"
   ]
  },
  {
   "cell_type": "code",
   "execution_count": 17,
   "id": "65874aec",
   "metadata": {},
   "outputs": [
    {
     "name": "stdout",
     "output_type": "stream",
     "text": [
      "Percentage of users who added to cart but did not checkout: 25.31%\n"
     ]
    }
   ],
   "source": [
    "percent_not_checked_out = (null_checkout_time / float(total_cart)) * 100\n",
    "print(f\"Percentage of users who added to cart but did not checkout: {percent_not_checked_out:.2f}%\")"
   ]
  },
  {
   "cell_type": "markdown",
   "id": "a56040d4",
   "metadata": {},
   "source": [
    "# **Step 7: Merge all four steps and examine**"
   ]
  },
  {
   "cell_type": "code",
   "execution_count": 19,
   "id": "1898a156",
   "metadata": {},
   "outputs": [
    {
     "name": "stdout",
     "output_type": "stream",
     "text": [
      "All Data Merged:\n"
     ]
    },
    {
     "data": {
      "text/html": [
       "<div>\n",
       "<style scoped>\n",
       "    .dataframe tbody tr th:only-of-type {\n",
       "        vertical-align: middle;\n",
       "    }\n",
       "\n",
       "    .dataframe tbody tr th {\n",
       "        vertical-align: top;\n",
       "    }\n",
       "\n",
       "    .dataframe thead th {\n",
       "        text-align: right;\n",
       "    }\n",
       "</style>\n",
       "<table border=\"1\" class=\"dataframe\">\n",
       "  <thead>\n",
       "    <tr style=\"text-align: right;\">\n",
       "      <th></th>\n",
       "      <th>user_id</th>\n",
       "      <th>visit_time</th>\n",
       "      <th>cart_time</th>\n",
       "      <th>checkout_time</th>\n",
       "      <th>purchase_time</th>\n",
       "    </tr>\n",
       "  </thead>\n",
       "  <tbody>\n",
       "    <tr>\n",
       "      <th>0</th>\n",
       "      <td>943647ef-3682-4750-a2e1-918ba6f16188</td>\n",
       "      <td>2017-04-07 15:14:00</td>\n",
       "      <td>NaN</td>\n",
       "      <td>NaN</td>\n",
       "      <td>NaN</td>\n",
       "    </tr>\n",
       "    <tr>\n",
       "      <th>1</th>\n",
       "      <td>0c3a3dd0-fb64-4eac-bf84-ba069ce409f2</td>\n",
       "      <td>2017-01-26 14:24:00</td>\n",
       "      <td>2017-01-26 14:44:00</td>\n",
       "      <td>2017-01-26 14:54:00</td>\n",
       "      <td>2017-01-26 15:08:00</td>\n",
       "    </tr>\n",
       "    <tr>\n",
       "      <th>2</th>\n",
       "      <td>6e0b2d60-4027-4d9a-babd-0e7d40859fb1</td>\n",
       "      <td>2017-08-20 08:23:00</td>\n",
       "      <td>2017-08-20 08:31:00</td>\n",
       "      <td>NaN</td>\n",
       "      <td>NaN</td>\n",
       "    </tr>\n",
       "    <tr>\n",
       "      <th>3</th>\n",
       "      <td>6879527e-c5a6-4d14-b2da-50b85212b0ab</td>\n",
       "      <td>2017-11-04 18:15:00</td>\n",
       "      <td>NaN</td>\n",
       "      <td>NaN</td>\n",
       "      <td>NaN</td>\n",
       "    </tr>\n",
       "    <tr>\n",
       "      <th>4</th>\n",
       "      <td>a84327ff-5daa-4ba1-b789-d5b4caf81e96</td>\n",
       "      <td>2017-02-27 11:25:00</td>\n",
       "      <td>NaN</td>\n",
       "      <td>NaN</td>\n",
       "      <td>NaN</td>\n",
       "    </tr>\n",
       "  </tbody>\n",
       "</table>\n",
       "</div>"
      ],
      "text/plain": [
       "                                user_id           visit_time  \\\n",
       "0  943647ef-3682-4750-a2e1-918ba6f16188  2017-04-07 15:14:00   \n",
       "1  0c3a3dd0-fb64-4eac-bf84-ba069ce409f2  2017-01-26 14:24:00   \n",
       "2  6e0b2d60-4027-4d9a-babd-0e7d40859fb1  2017-08-20 08:23:00   \n",
       "3  6879527e-c5a6-4d14-b2da-50b85212b0ab  2017-11-04 18:15:00   \n",
       "4  a84327ff-5daa-4ba1-b789-d5b4caf81e96  2017-02-27 11:25:00   \n",
       "\n",
       "             cart_time        checkout_time        purchase_time  \n",
       "0                  NaN                  NaN                  NaN  \n",
       "1  2017-01-26 14:44:00  2017-01-26 14:54:00  2017-01-26 15:08:00  \n",
       "2  2017-08-20 08:31:00                  NaN                  NaN  \n",
       "3                  NaN                  NaN                  NaN  \n",
       "4                  NaN                  NaN                  NaN  "
      ]
     },
     "execution_count": 19,
     "metadata": {},
     "output_type": "execute_result"
    }
   ],
   "source": [
    "all_data = visits.merge(cart, how='left', on='user_id') \\\n",
    "                 .merge(checkout, how='left', on='user_id') \\\n",
    "                 .merge(purchase, how='left', on='user_id')\n",
    "print(\"All Data Merged:\")\n",
    "all_data.head()"
   ]
  },
  {
   "cell_type": "markdown",
   "id": "d150ab61",
   "metadata": {},
   "source": [
    "# **Step 8: Percentage of users who checked out but did not purchase**"
   ]
  },
  {
   "cell_type": "code",
   "execution_count": 20,
   "id": "ed5f99af",
   "metadata": {},
   "outputs": [
    {
     "data": {
      "text/plain": [
       "598"
      ]
     },
     "execution_count": 20,
     "metadata": {},
     "output_type": "execute_result"
    }
   ],
   "source": [
    "checked_out = len(all_data[all_data.checkout_time.notnull()])\n",
    "checked_out"
   ]
  },
  {
   "cell_type": "code",
   "execution_count": 21,
   "id": "8597fd41",
   "metadata": {},
   "outputs": [
    {
     "data": {
      "text/plain": [
       "101"
      ]
     },
     "execution_count": 21,
     "metadata": {},
     "output_type": "execute_result"
    }
   ],
   "source": [
    "not_purchased = all_data[all_data.checkout_time.notnull() & all_data.purchase_time.isnull()].shape[0]\n",
    "not_purchased"
   ]
  },
  {
   "cell_type": "code",
   "execution_count": 22,
   "id": "f38f5d02",
   "metadata": {},
   "outputs": [
    {
     "name": "stdout",
     "output_type": "stream",
     "text": [
      "Percentage of users who checked out but did not purchase: 16.89%\n"
     ]
    }
   ],
   "source": [
    "percent_not_purchased = (not_purchased / float(checked_out)) * 100\n",
    "print(f\"Percentage of users who checked out but did not purchase: {percent_not_purchased:.2f}%\")"
   ]
  },
  {
   "cell_type": "markdown",
   "id": "819f3667",
   "metadata": {},
   "source": [
    "# **Step 9: Identify the weakest step and suggest improvements**"
   ]
  },
  {
   "cell_type": "code",
   "execution_count": 23,
   "id": "4166dba0",
   "metadata": {},
   "outputs": [
    {
     "name": "stdout",
     "output_type": "stream",
     "text": [
      "Visit to Cart Drop-off: 82.60%\n",
      "Cart to Checkout Drop-off: 25.31%\n",
      "Checkout to Purchase Drop-off: 16.89%\n"
     ]
    }
   ],
   "source": [
    "# Calculate drop-off percentage\n",
    "visit_to_cart = percent_not_added  # From Step 5\n",
    "cart_to_checkout = percent_not_checked_out # From Step 6\n",
    "checkout_to_purchase = percent_not_purchased # From Step 8\n",
    "\n",
    "print(f\"Visit to Cart Drop-off: {visit_to_cart:.2f}%\")\n",
    "print(f\"Cart to Checkout Drop-off: {cart_to_checkout:.2f}%\")\n",
    "print(f\"Checkout to Purchase Drop-off: {checkout_to_purchase:.2f}%\")"
   ]
  },
  {
   "cell_type": "code",
   "execution_count": 25,
   "id": "5e608d43",
   "metadata": {},
   "outputs": [
    {
     "name": "stdout",
     "output_type": "stream",
     "text": [
      "Weakest step: Visit to Cart with 82.60% drop-off\n"
     ]
    }
   ],
   "source": [
    "# Identify weakest step\n",
    "drop_offs = {\n",
    "    'Visit to Cart': visit_to_cart,\n",
    "    'Cart to Checkout': cart_to_checkout,\n",
    "    'Checkout to Purchase': checkout_to_purchase\n",
    "}\n",
    "weakest_step = max(drop_offs, key=drop_offs.get)\n",
    "print(f\"Weakest step: {weakest_step} with {drop_offs[weakest_step]:.2f}% drop-off\")"
   ]
  },
  {
   "cell_type": "markdown",
   "id": "66c09433",
   "metadata": {},
   "source": [
    "# **Step 10: Calculate time to purchase**"
   ]
  },
  {
   "cell_type": "code",
   "execution_count": null,
   "id": "ce7e0f97",
   "metadata": {},
   "outputs": [],
   "source": [
    "# Convert time columns to datetime\n",
    "all_data['purchase_time'] = pd.to_datetime(all_data['purchase_time'])\n",
    "all_data['visit_time'] = pd.to_datetime(all_data['visit_time'])"
   ]
  },
  {
   "cell_type": "code",
   "execution_count": 29,
   "id": "524e7949",
   "metadata": {},
   "outputs": [],
   "source": [
    "# Calculate time to purchase\n",
    "all_data['time_to_purchase'] = all_data.purchase_time - all_data.visit_time"
   ]
  },
  {
   "cell_type": "code",
   "execution_count": 30,
   "id": "2789ae40",
   "metadata": {},
   "outputs": [
    {
     "data": {
      "text/plain": [
       "user_id                      object\n",
       "visit_time           datetime64[ns]\n",
       "cart_time                    object\n",
       "checkout_time                object\n",
       "purchase_time        datetime64[ns]\n",
       "time_to_purchase    timedelta64[ns]\n",
       "dtype: object"
      ]
     },
     "execution_count": 30,
     "metadata": {},
     "output_type": "execute_result"
    }
   ],
   "source": [
    "all_data.dtypes"
   ]
  },
  {
   "cell_type": "code",
   "execution_count": 31,
   "id": "3a6c63c5",
   "metadata": {},
   "outputs": [
    {
     "data": {
      "text/html": [
       "<div>\n",
       "<style scoped>\n",
       "    .dataframe tbody tr th:only-of-type {\n",
       "        vertical-align: middle;\n",
       "    }\n",
       "\n",
       "    .dataframe tbody tr th {\n",
       "        vertical-align: top;\n",
       "    }\n",
       "\n",
       "    .dataframe thead th {\n",
       "        text-align: right;\n",
       "    }\n",
       "</style>\n",
       "<table border=\"1\" class=\"dataframe\">\n",
       "  <thead>\n",
       "    <tr style=\"text-align: right;\">\n",
       "      <th></th>\n",
       "      <th>purchase_time</th>\n",
       "      <th>visit_time</th>\n",
       "    </tr>\n",
       "  </thead>\n",
       "  <tbody>\n",
       "    <tr>\n",
       "      <th>0</th>\n",
       "      <td>NaT</td>\n",
       "      <td>2017-04-07 15:14:00</td>\n",
       "    </tr>\n",
       "    <tr>\n",
       "      <th>1</th>\n",
       "      <td>2017-01-26 15:08:00</td>\n",
       "      <td>2017-01-26 14:24:00</td>\n",
       "    </tr>\n",
       "    <tr>\n",
       "      <th>2</th>\n",
       "      <td>NaT</td>\n",
       "      <td>2017-08-20 08:23:00</td>\n",
       "    </tr>\n",
       "    <tr>\n",
       "      <th>3</th>\n",
       "      <td>NaT</td>\n",
       "      <td>2017-11-04 18:15:00</td>\n",
       "    </tr>\n",
       "    <tr>\n",
       "      <th>4</th>\n",
       "      <td>NaT</td>\n",
       "      <td>2017-02-27 11:25:00</td>\n",
       "    </tr>\n",
       "  </tbody>\n",
       "</table>\n",
       "</div>"
      ],
      "text/plain": [
       "        purchase_time          visit_time\n",
       "0                 NaT 2017-04-07 15:14:00\n",
       "1 2017-01-26 15:08:00 2017-01-26 14:24:00\n",
       "2                 NaT 2017-08-20 08:23:00\n",
       "3                 NaT 2017-11-04 18:15:00\n",
       "4                 NaT 2017-02-27 11:25:00"
      ]
     },
     "execution_count": 31,
     "metadata": {},
     "output_type": "execute_result"
    }
   ],
   "source": [
    "all_data[['purchase_time', 'visit_time']].head()"
   ]
  },
  {
   "cell_type": "code",
   "execution_count": 32,
   "id": "5cdfca17",
   "metadata": {},
   "outputs": [],
   "source": [
    "all_data['purchase_time'] = pd.to_datetime(all_data['purchase_time'], errors='coerce')\n",
    "all_data['visit_time'] = pd.to_datetime(all_data['visit_time'], errors='coerce')"
   ]
  },
  {
   "cell_type": "markdown",
   "id": "17dc2abc",
   "metadata": {},
   "source": [
    "# **Step 11: Examine time_to_purchase**"
   ]
  },
  {
   "cell_type": "code",
   "execution_count": 33,
   "id": "f754097b",
   "metadata": {},
   "outputs": [
    {
     "data": {
      "text/plain": [
       "0                  NaT\n",
       "1      0 days 00:44:00\n",
       "2                  NaT\n",
       "3                  NaT\n",
       "4                  NaT\n",
       "             ...      \n",
       "2367               NaT\n",
       "2368               NaT\n",
       "2369               NaT\n",
       "2370               NaT\n",
       "2371               NaT\n",
       "Name: time_to_purchase, Length: 2372, dtype: timedelta64[ns]"
      ]
     },
     "execution_count": 33,
     "metadata": {},
     "output_type": "execute_result"
    }
   ],
   "source": [
    "all_data.time_to_purchase"
   ]
  },
  {
   "cell_type": "markdown",
   "id": "18aa36f4",
   "metadata": {},
   "source": [
    "# **Step 12: Calculate average time to purchase**"
   ]
  },
  {
   "cell_type": "code",
   "execution_count": 34,
   "id": "840e7ad7",
   "metadata": {},
   "outputs": [
    {
     "data": {
      "text/plain": [
       "Timedelta('0 days 00:43:53.360160965')"
      ]
     },
     "execution_count": 34,
     "metadata": {},
     "output_type": "execute_result"
    }
   ],
   "source": [
    "all_data.time_to_purchase.mean()"
   ]
  }
 ],
 "metadata": {
  "kernelspec": {
   "display_name": "Python 3",
   "language": "python",
   "name": "python3"
  },
  "language_info": {
   "codemirror_mode": {
    "name": "ipython",
    "version": 3
   },
   "file_extension": ".py",
   "mimetype": "text/x-python",
   "name": "python",
   "nbconvert_exporter": "python",
   "pygments_lexer": "ipython3",
   "version": "3.10.11"
  }
 },
 "nbformat": 4,
 "nbformat_minor": 5
}
